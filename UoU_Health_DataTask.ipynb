{
  "nbformat": 4,
  "nbformat_minor": 0,
  "metadata": {
    "colab": {
      "provenance": []
    },
    "kernelspec": {
      "name": "python3",
      "display_name": "Python 3"
    },
    "language_info": {
      "name": "python"
    }
  },
  "cells": [
    {
      "cell_type": "code",
      "execution_count": 40,
      "metadata": {
        "id": "999yUavwzTzd"
      },
      "outputs": [],
      "source": [
        "# Reading data \n",
        "import pandas as pd "
      ]
    },
    {
      "cell_type": "code",
      "source": [
        "import warnings;\n",
        "warnings.filterwarnings('ignore');"
      ],
      "metadata": {
        "id": "Gz7FrlM_H_z9"
      },
      "execution_count": 39,
      "outputs": []
    },
    {
      "cell_type": "markdown",
      "source": [
        "**Assumptions:**\n",
        "\n",
        "\n",
        "*   People visit that particular facility whose distance is minuimum to their zipcode location.\n",
        "*   People with private insurance have 50% chances of undergoing surgery and those with government insurance have 100% chances.\n",
        "* We are expecting the same no.of patients to undergo surgeries next year as well.\n",
        "\n",
        "\n",
        "\n",
        "\n",
        "\n",
        "\n",
        "\n",
        "\n"
      ],
      "metadata": {
        "id": "sKgo_APtKIRT"
      }
    },
    {
      "cell_type": "code",
      "source": [
        "all_eye_df = pd.read_excel(r\"Ambulatory_surgery_data.xlsx\")\n",
        "pop_centr_df = pd.read_csv(r\"Utah_zipcode_population_centroid_lat_lng.csv\")"
      ],
      "metadata": {
        "id": "u8ZCbTi1zZE1"
      },
      "execution_count": 41,
      "outputs": []
    },
    {
      "cell_type": "code",
      "source": [
        "#Removing duplicates in Record_ID field and NA values in Patient Zip code field\n",
        "all_eye_df = all_eye_df.drop_duplicates(subset=[\"RECORD_ID\"], keep=\"last\")"
      ],
      "metadata": {
        "id": "Ls18hRCTzd7u"
      },
      "execution_count": 42,
      "outputs": []
    },
    {
      "cell_type": "code",
      "source": [
        "all_eye_df[\"PATIENT_ZIP_CODE\"] = all_eye_df[\"PATIENT_ZIP_CODE\"].dropna().astype(int)"
      ],
      "metadata": {
        "id": "qkVTQI51zeC9"
      },
      "execution_count": 43,
      "outputs": []
    },
    {
      "cell_type": "code",
      "source": [
        "#Filtering the data for surgery flags 1,2 as 0 indicates NO surgery\n",
        "surgery_df = all_eye_df[all_eye_df[\"SURG_FLAG\"].isin([1, 2])]"
      ],
      "metadata": {
        "id": "rA2VG-iozeJz"
      },
      "execution_count": 44,
      "outputs": []
    },
    {
      "cell_type": "code",
      "source": [
        "surgery_df.head()"
      ],
      "metadata": {
        "colab": {
          "base_uri": "https://localhost:8080/",
          "height": 374
        },
        "id": "G7kr2zqozeNM",
        "outputId": "082d7ac5-ed93-466b-db3f-9636682b41c4"
      },
      "execution_count": 45,
      "outputs": [
        {
          "output_type": "execute_result",
          "data": {
            "text/plain": [
              "      RECORD_ID AGE_GROUP  PATIENT_ZIP_CODE    PATIENT_COUNTY PATIENT_STATE  \\\n",
              "686   393663541   85 - 89           84124.0  Salt Lake County            UT   \n",
              "799   393261206     1 - 4           84651.0       Utah County            UT   \n",
              "1734  394083626   65 - 69           84096.0  Salt Lake County            UT   \n",
              "1739  393648845   55 - 59           84009.0  Salt Lake County            UT   \n",
              "2016  394385694   65 - 69           84096.0  Salt Lake County            UT   \n",
              "\n",
              "     PATIENT_GENDER  FACILITY_ID               FACILITY_NAME  \\\n",
              "686               F          125        Univ Hosp. | Clinics   \n",
              "799               M          122  Primary Childrens Hospital   \n",
              "1734              M          125        Univ Hosp. | Clinics   \n",
              "1739              M          125        Univ Hosp. | Clinics   \n",
              "2016              F          125        Univ Hosp. | Clinics   \n",
              "\n",
              "                    FACILITY_AFF              FACILITY_OWNERSHIP  \\\n",
              "686    University of Utah Health  UNIVERSITY OF UTAH HEALTH CARE   \n",
              "799   Primary Childrens Hospital        INTERMOUNTAIN HEALTHCARE   \n",
              "1734   University of Utah Health  UNIVERSITY OF UTAH HEALTH CARE   \n",
              "1739   University of Utah Health  UNIVERSITY OF UTAH HEALTH CARE   \n",
              "2016   University of Utah Health  UNIVERSITY OF UTAH HEALTH CARE   \n",
              "\n",
              "      FACILITY_LAT  FACILITY_LNG  FACILITY_ZIP_CODE  X_PAYER_PRIMARY_TYPOLOGY  \\\n",
              "686      40.771473   -111.837311              84132                       1.0   \n",
              "799      40.771285   -111.838811              84113                       6.0   \n",
              "1734     40.771473   -111.837311              84132                       6.0   \n",
              "1739     40.771473   -111.837311              84132                       6.0   \n",
              "2016     40.771473   -111.837311              84132                       1.0   \n",
              "\n",
              "     OPTUM_SERVICE_LINE      OPTUM_SUBSERVICE_LINE  \\\n",
              "686       Ophthalmology        Glaucoma Procedures   \n",
              "799       Ophthalmology       Other Eye Procedures   \n",
              "1734      Ophthalmology          Eyelid Procedures   \n",
              "1739      Ophthalmology        Cataract Procedures   \n",
              "2016      Ophthalmology  Vitreo-Retinal Procedures   \n",
              "\n",
              "                                  OPTUM_PROCEDURE_GROUP  SURG_FLAG  \n",
              "686                      Laser Repair - Trabeculoplasty          2  \n",
              "799                         Exploratory Surgery - Orbit          1  \n",
              "1734               Lesion Destruction/Excision - Eyelid          1  \n",
              "1739  Secondary Cataract Laser Surgery (Yag Capsulot...          2  \n",
              "2016                               Injection - Vitreous          2  "
            ],
            "text/html": [
              "\n",
              "  <div id=\"df-433fa0bc-2820-49e5-b497-f938ed612b3d\">\n",
              "    <div class=\"colab-df-container\">\n",
              "      <div>\n",
              "<style scoped>\n",
              "    .dataframe tbody tr th:only-of-type {\n",
              "        vertical-align: middle;\n",
              "    }\n",
              "\n",
              "    .dataframe tbody tr th {\n",
              "        vertical-align: top;\n",
              "    }\n",
              "\n",
              "    .dataframe thead th {\n",
              "        text-align: right;\n",
              "    }\n",
              "</style>\n",
              "<table border=\"1\" class=\"dataframe\">\n",
              "  <thead>\n",
              "    <tr style=\"text-align: right;\">\n",
              "      <th></th>\n",
              "      <th>RECORD_ID</th>\n",
              "      <th>AGE_GROUP</th>\n",
              "      <th>PATIENT_ZIP_CODE</th>\n",
              "      <th>PATIENT_COUNTY</th>\n",
              "      <th>PATIENT_STATE</th>\n",
              "      <th>PATIENT_GENDER</th>\n",
              "      <th>FACILITY_ID</th>\n",
              "      <th>FACILITY_NAME</th>\n",
              "      <th>FACILITY_AFF</th>\n",
              "      <th>FACILITY_OWNERSHIP</th>\n",
              "      <th>FACILITY_LAT</th>\n",
              "      <th>FACILITY_LNG</th>\n",
              "      <th>FACILITY_ZIP_CODE</th>\n",
              "      <th>X_PAYER_PRIMARY_TYPOLOGY</th>\n",
              "      <th>OPTUM_SERVICE_LINE</th>\n",
              "      <th>OPTUM_SUBSERVICE_LINE</th>\n",
              "      <th>OPTUM_PROCEDURE_GROUP</th>\n",
              "      <th>SURG_FLAG</th>\n",
              "    </tr>\n",
              "  </thead>\n",
              "  <tbody>\n",
              "    <tr>\n",
              "      <th>686</th>\n",
              "      <td>393663541</td>\n",
              "      <td>85 - 89</td>\n",
              "      <td>84124.0</td>\n",
              "      <td>Salt Lake County</td>\n",
              "      <td>UT</td>\n",
              "      <td>F</td>\n",
              "      <td>125</td>\n",
              "      <td>Univ Hosp. | Clinics</td>\n",
              "      <td>University of Utah Health</td>\n",
              "      <td>UNIVERSITY OF UTAH HEALTH CARE</td>\n",
              "      <td>40.771473</td>\n",
              "      <td>-111.837311</td>\n",
              "      <td>84132</td>\n",
              "      <td>1.0</td>\n",
              "      <td>Ophthalmology</td>\n",
              "      <td>Glaucoma Procedures</td>\n",
              "      <td>Laser Repair - Trabeculoplasty</td>\n",
              "      <td>2</td>\n",
              "    </tr>\n",
              "    <tr>\n",
              "      <th>799</th>\n",
              "      <td>393261206</td>\n",
              "      <td>1 - 4</td>\n",
              "      <td>84651.0</td>\n",
              "      <td>Utah County</td>\n",
              "      <td>UT</td>\n",
              "      <td>M</td>\n",
              "      <td>122</td>\n",
              "      <td>Primary Childrens Hospital</td>\n",
              "      <td>Primary Childrens Hospital</td>\n",
              "      <td>INTERMOUNTAIN HEALTHCARE</td>\n",
              "      <td>40.771285</td>\n",
              "      <td>-111.838811</td>\n",
              "      <td>84113</td>\n",
              "      <td>6.0</td>\n",
              "      <td>Ophthalmology</td>\n",
              "      <td>Other Eye Procedures</td>\n",
              "      <td>Exploratory Surgery - Orbit</td>\n",
              "      <td>1</td>\n",
              "    </tr>\n",
              "    <tr>\n",
              "      <th>1734</th>\n",
              "      <td>394083626</td>\n",
              "      <td>65 - 69</td>\n",
              "      <td>84096.0</td>\n",
              "      <td>Salt Lake County</td>\n",
              "      <td>UT</td>\n",
              "      <td>M</td>\n",
              "      <td>125</td>\n",
              "      <td>Univ Hosp. | Clinics</td>\n",
              "      <td>University of Utah Health</td>\n",
              "      <td>UNIVERSITY OF UTAH HEALTH CARE</td>\n",
              "      <td>40.771473</td>\n",
              "      <td>-111.837311</td>\n",
              "      <td>84132</td>\n",
              "      <td>6.0</td>\n",
              "      <td>Ophthalmology</td>\n",
              "      <td>Eyelid Procedures</td>\n",
              "      <td>Lesion Destruction/Excision - Eyelid</td>\n",
              "      <td>1</td>\n",
              "    </tr>\n",
              "    <tr>\n",
              "      <th>1739</th>\n",
              "      <td>393648845</td>\n",
              "      <td>55 - 59</td>\n",
              "      <td>84009.0</td>\n",
              "      <td>Salt Lake County</td>\n",
              "      <td>UT</td>\n",
              "      <td>M</td>\n",
              "      <td>125</td>\n",
              "      <td>Univ Hosp. | Clinics</td>\n",
              "      <td>University of Utah Health</td>\n",
              "      <td>UNIVERSITY OF UTAH HEALTH CARE</td>\n",
              "      <td>40.771473</td>\n",
              "      <td>-111.837311</td>\n",
              "      <td>84132</td>\n",
              "      <td>6.0</td>\n",
              "      <td>Ophthalmology</td>\n",
              "      <td>Cataract Procedures</td>\n",
              "      <td>Secondary Cataract Laser Surgery (Yag Capsulot...</td>\n",
              "      <td>2</td>\n",
              "    </tr>\n",
              "    <tr>\n",
              "      <th>2016</th>\n",
              "      <td>394385694</td>\n",
              "      <td>65 - 69</td>\n",
              "      <td>84096.0</td>\n",
              "      <td>Salt Lake County</td>\n",
              "      <td>UT</td>\n",
              "      <td>F</td>\n",
              "      <td>125</td>\n",
              "      <td>Univ Hosp. | Clinics</td>\n",
              "      <td>University of Utah Health</td>\n",
              "      <td>UNIVERSITY OF UTAH HEALTH CARE</td>\n",
              "      <td>40.771473</td>\n",
              "      <td>-111.837311</td>\n",
              "      <td>84132</td>\n",
              "      <td>1.0</td>\n",
              "      <td>Ophthalmology</td>\n",
              "      <td>Vitreo-Retinal Procedures</td>\n",
              "      <td>Injection - Vitreous</td>\n",
              "      <td>2</td>\n",
              "    </tr>\n",
              "  </tbody>\n",
              "</table>\n",
              "</div>\n",
              "      <button class=\"colab-df-convert\" onclick=\"convertToInteractive('df-433fa0bc-2820-49e5-b497-f938ed612b3d')\"\n",
              "              title=\"Convert this dataframe to an interactive table.\"\n",
              "              style=\"display:none;\">\n",
              "        \n",
              "  <svg xmlns=\"http://www.w3.org/2000/svg\" height=\"24px\"viewBox=\"0 0 24 24\"\n",
              "       width=\"24px\">\n",
              "    <path d=\"M0 0h24v24H0V0z\" fill=\"none\"/>\n",
              "    <path d=\"M18.56 5.44l.94 2.06.94-2.06 2.06-.94-2.06-.94-.94-2.06-.94 2.06-2.06.94zm-11 1L8.5 8.5l.94-2.06 2.06-.94-2.06-.94L8.5 2.5l-.94 2.06-2.06.94zm10 10l.94 2.06.94-2.06 2.06-.94-2.06-.94-.94-2.06-.94 2.06-2.06.94z\"/><path d=\"M17.41 7.96l-1.37-1.37c-.4-.4-.92-.59-1.43-.59-.52 0-1.04.2-1.43.59L10.3 9.45l-7.72 7.72c-.78.78-.78 2.05 0 2.83L4 21.41c.39.39.9.59 1.41.59.51 0 1.02-.2 1.41-.59l7.78-7.78 2.81-2.81c.8-.78.8-2.07 0-2.86zM5.41 20L4 18.59l7.72-7.72 1.47 1.35L5.41 20z\"/>\n",
              "  </svg>\n",
              "      </button>\n",
              "      \n",
              "  <style>\n",
              "    .colab-df-container {\n",
              "      display:flex;\n",
              "      flex-wrap:wrap;\n",
              "      gap: 12px;\n",
              "    }\n",
              "\n",
              "    .colab-df-convert {\n",
              "      background-color: #E8F0FE;\n",
              "      border: none;\n",
              "      border-radius: 50%;\n",
              "      cursor: pointer;\n",
              "      display: none;\n",
              "      fill: #1967D2;\n",
              "      height: 32px;\n",
              "      padding: 0 0 0 0;\n",
              "      width: 32px;\n",
              "    }\n",
              "\n",
              "    .colab-df-convert:hover {\n",
              "      background-color: #E2EBFA;\n",
              "      box-shadow: 0px 1px 2px rgba(60, 64, 67, 0.3), 0px 1px 3px 1px rgba(60, 64, 67, 0.15);\n",
              "      fill: #174EA6;\n",
              "    }\n",
              "\n",
              "    [theme=dark] .colab-df-convert {\n",
              "      background-color: #3B4455;\n",
              "      fill: #D2E3FC;\n",
              "    }\n",
              "\n",
              "    [theme=dark] .colab-df-convert:hover {\n",
              "      background-color: #434B5C;\n",
              "      box-shadow: 0px 1px 3px 1px rgba(0, 0, 0, 0.15);\n",
              "      filter: drop-shadow(0px 1px 2px rgba(0, 0, 0, 0.3));\n",
              "      fill: #FFFFFF;\n",
              "    }\n",
              "  </style>\n",
              "\n",
              "      <script>\n",
              "        const buttonEl =\n",
              "          document.querySelector('#df-433fa0bc-2820-49e5-b497-f938ed612b3d button.colab-df-convert');\n",
              "        buttonEl.style.display =\n",
              "          google.colab.kernel.accessAllowed ? 'block' : 'none';\n",
              "\n",
              "        async function convertToInteractive(key) {\n",
              "          const element = document.querySelector('#df-433fa0bc-2820-49e5-b497-f938ed612b3d');\n",
              "          const dataTable =\n",
              "            await google.colab.kernel.invokeFunction('convertToInteractive',\n",
              "                                                     [key], {});\n",
              "          if (!dataTable) return;\n",
              "\n",
              "          const docLinkHtml = 'Like what you see? Visit the ' +\n",
              "            '<a target=\"_blank\" href=https://colab.research.google.com/notebooks/data_table.ipynb>data table notebook</a>'\n",
              "            + ' to learn more about interactive tables.';\n",
              "          element.innerHTML = '';\n",
              "          dataTable['output_type'] = 'display_data';\n",
              "          await google.colab.output.renderOutput(dataTable, element);\n",
              "          const docLink = document.createElement('div');\n",
              "          docLink.innerHTML = docLinkHtml;\n",
              "          element.appendChild(docLink);\n",
              "        }\n",
              "      </script>\n",
              "    </div>\n",
              "  </div>\n",
              "  "
            ]
          },
          "metadata": {},
          "execution_count": 45
        }
      ]
    },
    {
      "cell_type": "code",
      "source": [
        "pop_centr_df.index = pop_centr_df[\"ZIP_CODE\"]"
      ],
      "metadata": {
        "id": "2YpE6hwwzeQm"
      },
      "execution_count": 46,
      "outputs": []
    },
    {
      "cell_type": "code",
      "source": [
        "#Mapping zipcode with their respective latitudes and longitudes\n",
        "lat_map = pop_centr_df[\"LATITUDE\"].to_dict()\n",
        "log_map = pop_centr_df[\"LONGITUDE\"].to_dict()\n",
        "\n",
        "surgery_df.loc[:, \"PATIENT_HOME_LAT\"] = surgery_df[\"PATIENT_ZIP_CODE\"].map(lat_map)\n",
        "surgery_df.loc[:, \"PATIENT_HOME_LOG\"] = surgery_df[\"PATIENT_ZIP_CODE\"].map(log_map)"
      ],
      "metadata": {
        "id": "rxWDLnkLzeTs"
      },
      "execution_count": 47,
      "outputs": []
    },
    {
      "cell_type": "code",
      "source": [
        "import numpy as np\n",
        "\n",
        "#Defining a function to calculate the Haversine distance which\n",
        "#determines the great-circle distance between two points on a sphere given their longitudes and latitudes\n",
        "def haversine(x, to_radians=True, earth_radius=6371):\n",
        "    lat1, lon1, lat2, lon2 = x\n",
        "    \n",
        "    if to_radians:\n",
        "        lat1, lon1, lat2, lon2 = np.radians([lat1, lon1, lat2, lon2])\n",
        "\n",
        "    a = np.sin((lat2-lat1)/2.0)**2 + np.cos(lat1) * np.cos(lat2) * np.sin((lon2-lon1)/2.0)**2\n",
        "\n",
        "    return earth_radius * 2 * np.arcsin(np.sqrt(a))"
      ],
      "metadata": {
        "id": "tVGhJ1VxzeW2"
      },
      "execution_count": 48,
      "outputs": []
    },
    {
      "cell_type": "code",
      "source": [
        "#Creating a new column FAC_HOME_DIST to find the distance between \n",
        "#patient's current homelocation and facility location he/she is currently travelling\n",
        "surgery_df.loc[:, \"FAC_HOME_DIST\"] = surgery_df[[\"FACILITY_LAT\", \"FACILITY_LNG\", \"PATIENT_HOME_LAT\", \"PATIENT_HOME_LOG\"]].T.apply(haversine)"
      ],
      "metadata": {
        "id": "SQiRI42HzeaB"
      },
      "execution_count": 49,
      "outputs": []
    },
    {
      "cell_type": "code",
      "source": [
        "#Defining functions to calculate the Haversine distances between Patient located latitude,longitude and\n",
        "# if a facility is established in Farmington and 3 zipcodes of South Jordan respectively\n",
        "def haversine_farmington(x, lat1=40.9805, lon1=-111.887439, to_radians=True, earth_radius=6371):\n",
        "    lat2, lon2 = x\n",
        "    return haversine((lat1, lon1, lat2, lon2))\n",
        "\n",
        "def haversine_south_jordan_95(x, lat1=40.56217, lon1=-111.929658, to_radians=True, earth_radius=6371):\n",
        "    lat2, lon2 = x\n",
        "    return haversine((lat1, lon1, lat2, lon2))\n",
        "\n",
        "def haversine_south_jordan_06(x, lat1=40.564669, lon1=-112.097441, to_radians=True, earth_radius=6371):\n",
        "    lat2, lon2 = x\n",
        "    return haversine((lat1, lon1, lat2, lon2))\n",
        "\n",
        "def haversine_south_jordan_09(x, lat1=40.562296, lon1=-111.999829, to_radians=True, earth_radius=6371):\n",
        "    lat2, lon2 = x\n",
        "    return haversine((lat1, lon1, lat2, lon2))"
      ],
      "metadata": {
        "id": "o3mfT59WzedH"
      },
      "execution_count": 50,
      "outputs": []
    },
    {
      "cell_type": "code",
      "source": [
        "#Creating new columns which have the Haversine distance between Patient located latitude,longitude and\n",
        "#the latitudes,longitudes of facility location if a facility is established in Farmington and \n",
        "#3 zipcodes of South Jordan respectively\n",
        "\n",
        "surgery_df.loc[:, \"FARM_HOME_DIST\"] = surgery_df[[\"PATIENT_HOME_LAT\", \"PATIENT_HOME_LOG\"]].T.apply(haversine_farmington)\n",
        "surgery_df.loc[:, \"SJ95_HOME_DIST\"] = surgery_df[[\"PATIENT_HOME_LAT\", \"PATIENT_HOME_LOG\"]].T.apply(haversine_south_jordan_95)\n",
        "surgery_df.loc[:, \"SJ06_HOME_DIST\"] = surgery_df[[\"PATIENT_HOME_LAT\", \"PATIENT_HOME_LOG\"]].T.apply(haversine_south_jordan_06)\n",
        "surgery_df.loc[:, \"SJ09_HOME_DIST\"] = surgery_df[[\"PATIENT_HOME_LAT\", \"PATIENT_HOME_LOG\"]].T.apply(haversine_south_jordan_09)\n"
      ],
      "metadata": {
        "id": "UTX9pq5Vze0k"
      },
      "execution_count": 51,
      "outputs": []
    },
    {
      "cell_type": "code",
      "source": [
        "gov_ins_tot = surgery_df[\"X_PAYER_PRIMARY_TYPOLOGY\"].isin([1,2,3,4]).sum()\n",
        "pvt_ins_tot = surgery_df[\"X_PAYER_PRIMARY_TYPOLOGY\"].isin([5,6]).sum()"
      ],
      "metadata": {
        "id": "lOE1zl1TbmaM"
      },
      "execution_count": 52,
      "outputs": []
    },
    {
      "cell_type": "code",
      "source": [
        "#Assigning weights as 0.5 for private insurance and 1 for govt insurance\n",
        "#def insurance(x):\n",
        "   # if x == 5:\n",
        "      #  return 0.5\n",
        "    #else:\n",
        "        #return 1\n",
        "    \n",
        "#surgery_df.loc[:, \"INSURANCE\"] = surgery_df[\"X_PAYER_PRIMARY_TYPOLOGY\"].apply(insurance)\n",
        "\n",
        "\n",
        "def insurance(x):\n",
        "    if x == 5 or x == 6:\n",
        "        return 0.5\n",
        "    elif x == 8 or x == 9 or np.isnan(x):\n",
        "        tot_ins = gov_ins_tot + pvt_ins_tot\n",
        "        return (pvt_ins_tot/tot_ins)*0.5 + (gov_ins_tot/tot_ins)*1\n",
        "    else:\n",
        "        return 1\n",
        "    \n",
        "surgery_df.loc[:, \"INSURANCE\"] = surgery_df[\"X_PAYER_PRIMARY_TYPOLOGY\"].apply(insurance)"
      ],
      "metadata": {
        "id": "eN-xrK7yze38"
      },
      "execution_count": 53,
      "outputs": []
    },
    {
      "cell_type": "code",
      "source": [
        "#Defining a function and calculating the minimum distance between the current facility location\n",
        "#and if a facility is established in Farmington\n",
        "def func(x):\n",
        "    c = [\"FAC_HOME_DIST\", \"FARM_HOME_DIST\"]\n",
        "    return c[np.argmin(x)]\n",
        "\n",
        "surgery_df.loc[:, \"BEST_FAC_FARM\"] = surgery_df[[\"FAC_HOME_DIST\", \"FARM_HOME_DIST\"]].T.apply(func)"
      ],
      "metadata": {
        "id": "7_NZ9nIqze60"
      },
      "execution_count": 54,
      "outputs": []
    },
    {
      "cell_type": "code",
      "source": [
        "#Defining a function and calculating the minimum distance between the current facility location\n",
        "#and if a facility is established in SouthJordan 84095\n",
        "def func(x):\n",
        "    c = [\"FAC_HOME_DIST\", \"SJ95_HOME_DIST\"]\n",
        "    return c[np.argmin(x)]\n",
        "\n",
        "surgery_df.loc[:, \"BEST_FAC_SJ95\"] = surgery_df[[\"FAC_HOME_DIST\", \"SJ95_HOME_DIST\"]].T.apply(func)"
      ],
      "metadata": {
        "id": "-SxmpdJRze9t"
      },
      "execution_count": 55,
      "outputs": []
    },
    {
      "cell_type": "code",
      "source": [
        "#Defining a function and calculating the minimum distance between the current facility location\n",
        "#and if a facility is established in SouthJordan 84006\n",
        "def func(x):\n",
        "    c = [\"FAC_HOME_DIST\", \"SJ06_HOME_DIST\"]\n",
        "    return c[np.argmin(x)]\n",
        "\n",
        "surgery_df.loc[:, \"BEST_FAC_SJ06\"] = surgery_df[[\"FAC_HOME_DIST\", \"SJ06_HOME_DIST\"]].T.apply(func)\n",
        "\n"
      ],
      "metadata": {
        "id": "u6wF1gye2Dgi"
      },
      "execution_count": 56,
      "outputs": []
    },
    {
      "cell_type": "code",
      "source": [
        "#Defining a function and calculating the minimum distance between the current facility location\n",
        "#and if a facility is established in SouthJordan 84009\n",
        "def func(x):\n",
        "    c = [\"FAC_HOME_DIST\", \"SJ09_HOME_DIST\"]\n",
        "    return c[np.argmin(x)]\n",
        "\n",
        "surgery_df.loc[:, \"BEST_FAC_SJ09\"] = surgery_df[[\"FAC_HOME_DIST\", \"SJ09_HOME_DIST\"]].T.apply(func)\n",
        "\n"
      ],
      "metadata": {
        "id": "ZxnLEtmK2DdY"
      },
      "execution_count": 57,
      "outputs": []
    },
    {
      "cell_type": "code",
      "source": [
        "#Defining a function and calculating the minimum distance between the current facility location\n",
        "#and if a facility is established both in Farmington and SouthJordan 84095\n",
        "def func(x):\n",
        "    c = [\"FAC_HOME_DIST\", \"FARM_HOME_DIST\", \"SJ95_HOME_DIST\"]\n",
        "    return c[np.argmin(x)]\n",
        "\n",
        "surgery_df.loc[:, \"BEST_FARM_SJ95\"] = surgery_df[[\"FAC_HOME_DIST\", \"FARM_HOME_DIST\", \"SJ95_HOME_DIST\"]].T.apply(func)\n"
      ],
      "metadata": {
        "id": "8BgtyELf2DaC"
      },
      "execution_count": 58,
      "outputs": []
    },
    {
      "cell_type": "code",
      "source": [
        "# Add wasatch front regions to zip codes \n",
        "\n",
        "region_zip_df = pd.read_excel(r\"U Health Markets by zipcode 2020-04-09.xlsx\")\n",
        "\n",
        "region_zip_df.index = region_zip_df[\"Zip\"]\n",
        "reg_zip_map = region_zip_df[\"Macro Market\"].to_dict()\n",
        "\n",
        "surgery_df[\"REGION\"] = surgery_df[\"FACILITY_ZIP_CODE\"].map(reg_zip_map)\n",
        "surgery_df[\"WASATCH FRONT\"] = surgery_df[\"REGION\"] == \"Utah - Wasatch Front\""
      ],
      "metadata": {
        "id": "PuWd4ShG2DW3"
      },
      "execution_count": 59,
      "outputs": []
    },
    {
      "cell_type": "code",
      "source": [
        "#Filtering the data to include only facilities in the Wasatch Front\n",
        "surgery_df = surgery_df[surgery_df[\"WASATCH FRONT\"]]\n"
      ],
      "metadata": {
        "id": "5MEayetG2DTN"
      },
      "execution_count": 60,
      "outputs": []
    },
    {
      "cell_type": "code",
      "source": [
        "#Extracting the data after filtering,transforming to an excel sheet\n",
        "surgery_df.to_excel(r\"surgery_enhanced_df.xlsx\")"
      ],
      "metadata": {
        "id": "w5xel2Un2DPy"
      },
      "execution_count": 61,
      "outputs": []
    },
    {
      "cell_type": "markdown",
      "source": [
        "*** Drawing insights after cleaning the data and making necessary transformations***"
      ],
      "metadata": {
        "id": "EUed2Q8V9KbK"
      }
    },
    {
      "cell_type": "code",
      "source": [
        "surgery_df[surgery_df[\"WASATCH FRONT\"] == True][\"FAC_HOME_DIST\"].mean()"
      ],
      "metadata": {
        "colab": {
          "base_uri": "https://localhost:8080/"
        },
        "id": "afdcFsP0GIW9",
        "outputId": "21d75b13-9da6-4af7-f1b4-7fa4cd617786"
      },
      "execution_count": 62,
      "outputs": [
        {
          "output_type": "execute_result",
          "data": {
            "text/plain": [
              "25.56263139856934"
            ]
          },
          "metadata": {},
          "execution_count": 62
        }
      ]
    },
    {
      "cell_type": "code",
      "source": [
        "surgery_df[surgery_df[\"WASATCH FRONT\"] == True][\"FAC_HOME_DIST\"].std()"
      ],
      "metadata": {
        "colab": {
          "base_uri": "https://localhost:8080/"
        },
        "id": "5hjYyZXJGIVE",
        "outputId": "5c030e26-17a2-4b18-8acb-15fe9de1d411"
      },
      "execution_count": 63,
      "outputs": [
        {
          "output_type": "execute_result",
          "data": {
            "text/plain": [
              "45.76546084440613"
            ]
          },
          "metadata": {},
          "execution_count": 63
        }
      ]
    },
    {
      "cell_type": "markdown",
      "source": [
        "So people are travelling around 25.5 kms on average for surgery with a standard deviation of 49 kms"
      ],
      "metadata": {
        "id": "APmrKgDiGOZF"
      }
    },
    {
      "cell_type": "code",
      "source": [
        "# insights \n",
        "import matplotlib.pyplot as plt\n",
        "import seaborn as sns"
      ],
      "metadata": {
        "id": "8hWlHPGU9Vn5"
      },
      "execution_count": 64,
      "outputs": []
    },
    {
      "cell_type": "code",
      "source": [
        "# Calculating the no.of surgeries handled by Univeristy of Utah Health and non-Univ of Utah Health facilities\n",
        "u_utah_counts = surgery_df[surgery_df[\"FACILITY_AFF\"] == \"University of Utah Health\"][\"FACILITY_ZIP_CODE\"].value_counts()\n",
        "\n",
        "other_utah_counts = surgery_df[surgery_df[\"FACILITY_AFF\"] != \"University of Utah Health\"][\"FACILITY_ZIP_CODE\"].value_counts()\n"
      ],
      "metadata": {
        "id": "lolRSgQ39Vkf"
      },
      "execution_count": 65,
      "outputs": []
    },
    {
      "cell_type": "code",
      "source": [
        "#No.of surgeries handled by Univeristy of Utah Health facility\n",
        "u_utah_counts.sum()"
      ],
      "metadata": {
        "colab": {
          "base_uri": "https://localhost:8080/"
        },
        "id": "NTjqquoq9Vhe",
        "outputId": "f651aaaf-6d97-4223-8050-f1988c743d92"
      },
      "execution_count": 66,
      "outputs": [
        {
          "output_type": "execute_result",
          "data": {
            "text/plain": [
              "14803"
            ]
          },
          "metadata": {},
          "execution_count": 66
        }
      ]
    },
    {
      "cell_type": "code",
      "source": [
        "#No.of surgeries handled by Non-Univeristy of Utah Health facilities\n",
        "other_utah_counts.sum()"
      ],
      "metadata": {
        "colab": {
          "base_uri": "https://localhost:8080/"
        },
        "id": "VhJ_h9R79Vd_",
        "outputId": "a66e680f-f775-4c4a-c835-762badd8188d"
      },
      "execution_count": 67,
      "outputs": [
        {
          "output_type": "execute_result",
          "data": {
            "text/plain": [
              "24481"
            ]
          },
          "metadata": {},
          "execution_count": 67
        }
      ]
    },
    {
      "cell_type": "markdown",
      "source": [
        "***Zipcode wise surgeries plot***"
      ],
      "metadata": {
        "id": "D-K8-U4k-YYx"
      }
    },
    {
      "cell_type": "code",
      "source": [
        "plt.xticks(rotation=90, ha='right')\n",
        "plt.bar(surgery_df[\"FACILITY_ZIP_CODE\"].value_counts().index.astype(str), surgery_df[\"FACILITY_ZIP_CODE\"].value_counts().values,color = 'Pink')\n",
        "plt.xlabel(\"Zipcode\")\n",
        "plt.ylabel(\"No.of surgeries\")\n",
        "plt.title(\"No.of surgeries taking place in each Zipcode\")"
      ],
      "metadata": {
        "colab": {
          "base_uri": "https://localhost:8080/",
          "height": 520
        },
        "id": "X0qmgqp89Va3",
        "outputId": "0b31de8f-554e-4c01-c1f5-56853c58cbcf"
      },
      "execution_count": 68,
      "outputs": [
        {
          "output_type": "execute_result",
          "data": {
            "text/plain": [
              "Text(0.5, 1.0, 'No.of surgeries taking place in each Zipcode')"
            ]
          },
          "metadata": {},
          "execution_count": 68
        },
        {
          "output_type": "display_data",
          "data": {
            "text/plain": [
              "<Figure size 640x480 with 1 Axes>"
            ],
            "image/png": "[encoded data removed]"
          },
          "metadata": {}
        }
      ]
    },
    {
      "cell_type": "code",
      "source": [
        "plt.xticks(rotation=90, ha='right')\n",
        "\n",
        "x = surgery_df[\"FACILITY_ZIP_CODE\"].value_counts().index\n",
        "y_l1 = u_utah_counts.to_dict()\n",
        "y_l2 = other_utah_counts.to_dict()\n",
        "\n",
        "y1, y2 = [], []\n",
        "for zc in x:\n",
        "    if zc in y_l1:\n",
        "        y1.append(y_l1[zc])\n",
        "    else:\n",
        "        y1.append(0)\n",
        "        \n",
        "    if zc in y_l2:\n",
        "        y2.append(y_l2[zc])\n",
        "    else:\n",
        "        y2.append(0)\n",
        "    \n",
        "x = x.astype(str)\n",
        "plt.bar(x, y1, label=\"UoU Health\",color = \"Red\")\n",
        "plt.bar(x, y2, label=\"Others\",color=\"Green\")\n",
        "plt.xlabel(\"ZipCode\")\n",
        "plt.ylabel(\"No.of surgeries\")\n",
        "plt.title(\"Stacked bar chart showing the facilities that operate in each Zipcode\")\n",
        "plt.legend()"
      ],
      "metadata": {
        "colab": {
          "base_uri": "https://localhost:8080/",
          "height": 520
        },
        "id": "1Xwbf53P9VXL",
        "outputId": "2775882c-b9e8-4ec7-cfd8-2127d1e96b36"
      },
      "execution_count": 69,
      "outputs": [
        {
          "output_type": "execute_result",
          "data": {
            "text/plain": [
              "<matplotlib.legend.Legend at 0x7f41cb3646d0>"
            ]
          },
          "metadata": {},
          "execution_count": 69
        },
        {
          "output_type": "display_data",
          "data": {
            "text/plain": [
              "<Figure size 640x480 with 1 Axes>"
            ],
            "image/png": "[encoded data removed]"
          },
          "metadata": {}
        }
      ]
    },
    {
      "cell_type": "markdown",
      "source": [
        "By the above 2 plots we can notice that the maximum no.of surgeries take place in 84132 ( Salt Lake, Salt Lake County,Utah- Wasatch Front) and the Univeristy of Utah Health manages all the surgeries in this zipcode."
      ],
      "metadata": {
        "id": "bJHeVA8d_HFo"
      }
    },
    {
      "cell_type": "code",
      "source": [
        "plt.xticks(rotation=90, ha='right')\n",
        "plt.bar(other_utah_counts.index.astype(str), (np.cumsum(other_utah_counts)/np.sum(other_utah_counts)*100),color = \"lightcoral\")\n",
        "plt.xlabel(\"ZipCode\")\n",
        "plt.ylabel(\"Cum.sum of %of marketshare for Non UoUH faclities\")\n",
        "plt.title(\"Bar chart showing Cumulative sum of percentage of market share for Non UoU Health facilities for each Zipcode\")"
      ],
      "metadata": {
        "colab": {
          "base_uri": "https://localhost:8080/",
          "height": 538
        },
        "id": "859HCtHF9VQl",
        "outputId": "5dc01bbc-4164-4d1b-cdb1-ec44d05ce1f3"
      },
      "execution_count": 70,
      "outputs": [
        {
          "output_type": "execute_result",
          "data": {
            "text/plain": [
              "Text(0.5, 1.0, 'Bar chart showing Cumulative sum of percentage of market share for Non UoU Health facilities for each Zipcode')"
            ]
          },
          "metadata": {},
          "execution_count": 70
        },
        {
          "output_type": "display_data",
          "data": {
            "text/plain": [
              "<Figure size 640x480 with 1 Axes>"
            ],
            "image/png": "[encoded data removed]"
          },
          "metadata": {}
        }
      ]
    },
    {
      "cell_type": "markdown",
      "source": [
        "From the above plot we can infer that UoU health can capture more than 50% of Non-Univ of Utah health market share if it focuses on the 4 zipcodes in above plot i.e 84604, 84403, 84107, 84157. The zipcodes in above plot are currently not managed by UoU Health"
      ],
      "metadata": {
        "id": "_-Mqa18JBE9T"
      }
    },
    {
      "cell_type": "markdown",
      "source": [
        "# What do we observe if a facility is established in Farmington 84025:\n",
        "\n"
      ],
      "metadata": {
        "id": "9rNbSDUVBhFh"
      }
    },
    {
      "cell_type": "code",
      "source": [
        "farm_capture_df = surgery_df[surgery_df[\"BEST_FAC_FARM\"] == \"FARM_HOME_DIST\"]\n",
        "#sj_zip_count_95 = sj_capture_df_95[\"FACILITY_ZIP_CODE\"].value_counts()\n",
        "farm_zip_count = farm_capture_df[\"FACILITY_ZIP_CODE\"].value_counts()"
      ],
      "metadata": {
        "id": "MoAFPMkV9VNR"
      },
      "execution_count": 71,
      "outputs": []
    },
    {
      "cell_type": "code",
      "source": [
        "plt.xticks(rotation=90, ha='right')\n",
        "plt.bar(farm_capture_df[\"FACILITY_ZIP_CODE\"].value_counts().index.astype(str), farm_capture_df[\"FACILITY_ZIP_CODE\"].value_counts().values,color = \"cyan\")\n",
        "plt.xlabel(\"Zipcode\")\n",
        "plt.ylabel(\"No.of surgeries\")\n",
        "plt.title(\"No.of surgeries taking place in each Zipcode if we start a facility in Farmington\")\n"
      ],
      "metadata": {
        "colab": {
          "base_uri": "https://localhost:8080/",
          "height": 520
        },
        "id": "RKbmhEAL9VJ0",
        "outputId": "aab24e14-b662-46ce-d89a-02a716a3cefa"
      },
      "execution_count": 72,
      "outputs": [
        {
          "output_type": "execute_result",
          "data": {
            "text/plain": [
              "Text(0.5, 1.0, 'No.of surgeries taking place in each Zipcode if we start a facility in Farmington')"
            ]
          },
          "metadata": {},
          "execution_count": 72
        },
        {
          "output_type": "display_data",
          "data": {
            "text/plain": [
              "<Figure size 640x480 with 1 Axes>"
            ],
            "image/png": "[encoded data removed]"
          },
          "metadata": {}
        }
      ]
    },
    {
      "cell_type": "code",
      "source": [
        "farm_tot = farm_capture_df.groupby(\"FACILITY_ZIP_CODE\").agg({\"INSURANCE\" : sum}).sort_values(by=\"INSURANCE\", ascending=False).sum()[0]\n",
        "\n",
        "print(\"Total number of expected surgeries in the Farmington Facility are - {}\".format(int(farm_tot)))"
      ],
      "metadata": {
        "colab": {
          "base_uri": "https://localhost:8080/"
        },
        "id": "rCD4gmMT9VGb",
        "outputId": "66b12fac-a8c0-4648-ee86-1f035ccc560e"
      },
      "execution_count": 73,
      "outputs": [
        {
          "output_type": "stream",
          "name": "stdout",
          "text": [
            "Total number of expected surgeries in the Farmington Facility are - 3991\n"
          ]
        }
      ]
    },
    {
      "cell_type": "markdown",
      "source": [
        "** Total number of expected surgeries if a facility is established in Farmington - 3991"
      ],
      "metadata": {
        "id": "yLcAE4mNPAxJ"
      }
    },
    {
      "cell_type": "code",
      "source": [
        "farm_capture_df.groupby(\"FACILITY_ZIP_CODE\").agg({\"INSURANCE\" : sum}).sort_values(by=\"INSURANCE\", ascending=False)[1:].sum()\n"
      ],
      "metadata": {
        "colab": {
          "base_uri": "https://localhost:8080/"
        },
        "id": "LpYfdFK-9VCf",
        "outputId": "ed42ea5b-27ab-486e-8417-92f0052e8de7"
      },
      "execution_count": 74,
      "outputs": [
        {
          "output_type": "execute_result",
          "data": {
            "text/plain": [
              "INSURANCE    1985.302611\n",
              "dtype: float64"
            ]
          },
          "metadata": {},
          "execution_count": 74
        }
      ]
    },
    {
      "cell_type": "markdown",
      "source": [
        "** No.of additional surgeries we can expect from the zipcodes that are currently dominated by Non-UoU health facilities if we establish a facility in Farmington - 2037"
      ],
      "metadata": {
        "id": "XzdhOsEhPHjZ"
      }
    },
    {
      "cell_type": "code",
      "source": [
        "print(\"Additional percentage captured by adding a new facility in Farmington - {} %\".format(round(1985*100/24481, 2)))"
      ],
      "metadata": {
        "colab": {
          "base_uri": "https://localhost:8080/"
        },
        "id": "f2uz5ket9U_a",
        "outputId": "ff4c34e8-f538-4932-d331-94f9394f5d67"
      },
      "execution_count": 75,
      "outputs": [
        {
          "output_type": "stream",
          "name": "stdout",
          "text": [
            "Additional percentage captured by adding a new facility in Farmington - 8.11 %\n"
          ]
        }
      ]
    },
    {
      "cell_type": "markdown",
      "source": [
        "**So the additional percentage of market share that can be captured from the zipcodes that are currently dominated by Non-UoU health facilities if we establish a facility in Farmington - 8.11%**\n"
      ],
      "metadata": {
        "id": "FCHT99DlQAF5"
      }
    },
    {
      "cell_type": "markdown",
      "source": [
        "# What do we observe if a facility is established in South Jordan 84095:"
      ],
      "metadata": {
        "id": "8kwx0GMUDPQ5"
      }
    },
    {
      "cell_type": "code",
      "source": [
        "sj_capture_df_95 = surgery_df[surgery_df[\"BEST_FAC_SJ95\"] == \"SJ95_HOME_DIST\"]\n",
        "sj_zip_count_95 = sj_capture_df_95[\"FACILITY_ZIP_CODE\"].value_counts()\n",
        "sj_capture_df_95"
      ],
      "metadata": {
        "colab": {
          "base_uri": "https://localhost:8080/",
          "height": 852
        },
        "id": "ycOrdWpYDWls",
        "outputId": "e2f62819-8f4d-4ee8-f3ff-651e0eaee0f9"
      },
      "execution_count": 76,
      "outputs": [
        {
          "output_type": "execute_result",
          "data": {
            "text/plain": [
              "        RECORD_ID AGE_GROUP  PATIENT_ZIP_CODE    PATIENT_COUNTY PATIENT_STATE  \\\n",
              "799     393261206     1 - 4           84651.0       Utah County            UT   \n",
              "1734    394083626   65 - 69           84096.0  Salt Lake County            UT   \n",
              "1739    393648845   55 - 59           84009.0  Salt Lake County            UT   \n",
              "2016    394385694   65 - 69           84096.0  Salt Lake County            UT   \n",
              "2244    393396868   45 - 49           84020.0  Salt Lake County            UT   \n",
              "...           ...       ...               ...               ...           ...   \n",
              "118762  394817494   50 - 54           84020.0  Salt Lake County            UT   \n",
              "118771  393231361   60 - 64           84020.0  Salt Lake County            UT   \n",
              "118773  393227055   65 - 69           84065.0  Salt Lake County            UT   \n",
              "118774  393225177   80 - 84           84094.0  Salt Lake County            UT   \n",
              "118776  393230971   85 - 89           84121.0  Salt Lake County            UT   \n",
              "\n",
              "       PATIENT_GENDER  FACILITY_ID                      FACILITY_NAME  \\\n",
              "799                 M          122         Primary Childrens Hospital   \n",
              "1734                M          125               Univ Hosp. | Clinics   \n",
              "1739                M          125               Univ Hosp. | Clinics   \n",
              "2016                F          125               Univ Hosp. | Clinics   \n",
              "2244                F          416                              Moran   \n",
              "...               ...          ...                                ...   \n",
              "118762              F          422               Utah Surgical Center   \n",
              "118771              F          120  Salt Lake Regional Medical Center   \n",
              "118773              M          120  Salt Lake Regional Medical Center   \n",
              "118774              M          120  Salt Lake Regional Medical Center   \n",
              "118776              M          120  Salt Lake Regional Medical Center   \n",
              "\n",
              "                      FACILITY_AFF              FACILITY_OWNERSHIP  ...  \\\n",
              "799     Primary Childrens Hospital        INTERMOUNTAIN HEALTHCARE  ...   \n",
              "1734     University of Utah Health  UNIVERSITY OF UTAH HEALTH CARE  ...   \n",
              "1739     University of Utah Health  UNIVERSITY OF UTAH HEALTH CARE  ...   \n",
              "2016     University of Utah Health  UNIVERSITY OF UTAH HEALTH CARE  ...   \n",
              "2244     University of Utah Health                             NaN  ...   \n",
              "...                            ...                             ...  ...   \n",
              "118762            HCA Mountainstar                        NUETERRA  ...   \n",
              "118771          Steward Healthcare  SALT LAKE REGIONAL MEDICAL, LP  ...   \n",
              "118773          Steward Healthcare  SALT LAKE REGIONAL MEDICAL, LP  ...   \n",
              "118774          Steward Healthcare  SALT LAKE REGIONAL MEDICAL, LP  ...   \n",
              "118776          Steward Healthcare  SALT LAKE REGIONAL MEDICAL, LP  ...   \n",
              "\n",
              "        SJ06_HOME_DIST  SJ09_HOME_DIST  INSURANCE  BEST_FAC_FARM  \\\n",
              "799          66.942634       63.283152        0.5  FAC_HOME_DIST   \n",
              "1734          9.208881        6.446068        0.5  FAC_HOME_DIST   \n",
              "1739          7.929558        0.881971        0.5  FAC_HOME_DIST   \n",
              "2016          9.208881        6.446068        1.0  FAC_HOME_DIST   \n",
              "2244         20.057447       12.348157        1.0  FAC_HOME_DIST   \n",
              "...                ...             ...        ...            ...   \n",
              "118762       20.057447       12.348157        0.5  FAC_HOME_DIST   \n",
              "118771       20.057447       12.348157        0.5  FAC_HOME_DIST   \n",
              "118773       14.565213        7.910693        1.0  FAC_HOME_DIST   \n",
              "118774       19.872752       11.677286        1.0  FAC_HOME_DIST   \n",
              "118776       24.038568       16.406879        1.0  FAC_HOME_DIST   \n",
              "\n",
              "         BEST_FAC_SJ95   BEST_FAC_SJ06   BEST_FAC_SJ09  BEST_FARM_SJ95  \\\n",
              "799     SJ95_HOME_DIST  SJ06_HOME_DIST  SJ09_HOME_DIST  SJ95_HOME_DIST   \n",
              "1734    SJ95_HOME_DIST  SJ06_HOME_DIST  SJ09_HOME_DIST  SJ95_HOME_DIST   \n",
              "1739    SJ95_HOME_DIST  SJ06_HOME_DIST  SJ09_HOME_DIST  SJ95_HOME_DIST   \n",
              "2016    SJ95_HOME_DIST  SJ06_HOME_DIST  SJ09_HOME_DIST  SJ95_HOME_DIST   \n",
              "2244    SJ95_HOME_DIST  SJ06_HOME_DIST  SJ09_HOME_DIST  SJ95_HOME_DIST   \n",
              "...                ...             ...             ...             ...   \n",
              "118762  SJ95_HOME_DIST  SJ06_HOME_DIST  SJ09_HOME_DIST  SJ95_HOME_DIST   \n",
              "118771  SJ95_HOME_DIST  SJ06_HOME_DIST  SJ09_HOME_DIST  SJ95_HOME_DIST   \n",
              "118773  SJ95_HOME_DIST  SJ06_HOME_DIST  SJ09_HOME_DIST  SJ95_HOME_DIST   \n",
              "118774  SJ95_HOME_DIST  SJ06_HOME_DIST  SJ09_HOME_DIST  SJ95_HOME_DIST   \n",
              "118776  SJ95_HOME_DIST   FAC_HOME_DIST   FAC_HOME_DIST  SJ95_HOME_DIST   \n",
              "\n",
              "                      REGION  WASATCH FRONT  \n",
              "799     Utah - Wasatch Front           True  \n",
              "1734    Utah - Wasatch Front           True  \n",
              "1739    Utah - Wasatch Front           True  \n",
              "2016    Utah - Wasatch Front           True  \n",
              "2244    Utah - Wasatch Front           True  \n",
              "...                      ...            ...  \n",
              "118762  Utah - Wasatch Front           True  \n",
              "118771  Utah - Wasatch Front           True  \n",
              "118773  Utah - Wasatch Front           True  \n",
              "118774  Utah - Wasatch Front           True  \n",
              "118776  Utah - Wasatch Front           True  \n",
              "\n",
              "[13241 rows x 33 columns]"
            ],
            "text/html": [
              "\n",
              "  <div id=\"df-4e6ac149-d5aa-449c-aeb5-4c870c9b1bcd\">\n",
              "    <div class=\"colab-df-container\">\n",
              "      <div>\n",
              "<style scoped>\n",
              "    .dataframe tbody tr th:only-of-type {\n",
              "        vertical-align: middle;\n",
              "    }\n",
              "\n",
              "    .dataframe tbody tr th {\n",
              "        vertical-align: top;\n",
              "    }\n",
              "\n",
              "    .dataframe thead th {\n",
              "        text-align: right;\n",
              "    }\n",
              "</style>\n",
              "<table border=\"1\" class=\"dataframe\">\n",
              "  <thead>\n",
              "    <tr style=\"text-align: right;\">\n",
              "      <th></th>\n",
              "      <th>RECORD_ID</th>\n",
              "      <th>AGE_GROUP</th>\n",
              "      <th>PATIENT_ZIP_CODE</th>\n",
              "      <th>PATIENT_COUNTY</th>\n",
              "      <th>PATIENT_STATE</th>\n",
              "      <th>PATIENT_GENDER</th>\n",
              "      <th>FACILITY_ID</th>\n",
              "      <th>FACILITY_NAME</th>\n",
              "      <th>FACILITY_AFF</th>\n",
              "      <th>FACILITY_OWNERSHIP</th>\n",
              "      <th>...</th>\n",
              "      <th>SJ06_HOME_DIST</th>\n",
              "      <th>SJ09_HOME_DIST</th>\n",
              "      <th>INSURANCE</th>\n",
              "      <th>BEST_FAC_FARM</th>\n",
              "      <th>BEST_FAC_SJ95</th>\n",
              "      <th>BEST_FAC_SJ06</th>\n",
              "      <th>BEST_FAC_SJ09</th>\n",
              "      <th>BEST_FARM_SJ95</th>\n",
              "      <th>REGION</th>\n",
              "      <th>WASATCH FRONT</th>\n",
              "    </tr>\n",
              "  </thead>\n",
              "  <tbody>\n",
              "    <tr>\n",
              "      <th>799</th>\n",
              "      <td>393261206</td>\n",
              "      <td>1 - 4</td>\n",
              "      <td>84651.0</td>\n",
              "      <td>Utah County</td>\n",
              "      <td>UT</td>\n",
              "      <td>M</td>\n",
              "      <td>122</td>\n",
              "      <td>Primary Childrens Hospital</td>\n",
              "      <td>Primary Childrens Hospital</td>\n",
              "      <td>INTERMOUNTAIN HEALTHCARE</td>\n",
              "      <td>...</td>\n",
              "      <td>66.942634</td>\n",
              "      <td>63.283152</td>\n",
              "      <td>0.5</td>\n",
              "      <td>FAC_HOME_DIST</td>\n",
              "      <td>SJ95_HOME_DIST</td>\n",
              "      <td>SJ06_HOME_DIST</td>\n",
              "      <td>SJ09_HOME_DIST</td>\n",
              "      <td>SJ95_HOME_DIST</td>\n",
              "      <td>Utah - Wasatch Front</td>\n",
              "      <td>True</td>\n",
              "    </tr>\n",
              "    <tr>\n",
              "      <th>1734</th>\n",
              "      <td>394083626</td>\n",
              "      <td>65 - 69</td>\n",
              "      <td>84096.0</td>\n",
              "      <td>Salt Lake County</td>\n",
              "      <td>UT</td>\n",
              "      <td>M</td>\n",
              "      <td>125</td>\n",
              "      <td>Univ Hosp. | Clinics</td>\n",
              "      <td>University of Utah Health</td>\n",
              "      <td>UNIVERSITY OF UTAH HEALTH CARE</td>\n",
              "      <td>...</td>\n",
              "      <td>9.208881</td>\n",
              "      <td>6.446068</td>\n",
              "      <td>0.5</td>\n",
              "      <td>FAC_HOME_DIST</td>\n",
              "      <td>SJ95_HOME_DIST</td>\n",
              "      <td>SJ06_HOME_DIST</td>\n",
              "      <td>SJ09_HOME_DIST</td>\n",
              "      <td>SJ95_HOME_DIST</td>\n",
              "      <td>Utah - Wasatch Front</td>\n",
              "      <td>True</td>\n",
              "    </tr>\n",
              "    <tr>\n",
              "      <th>1739</th>\n",
              "      <td>393648845</td>\n",
              "      <td>55 - 59</td>\n",
              "      <td>84009.0</td>\n",
              "      <td>Salt Lake County</td>\n",
              "      <td>UT</td>\n",
              "      <td>M</td>\n",
              "      <td>125</td>\n",
              "      <td>Univ Hosp. | Clinics</td>\n",
              "      <td>University of Utah Health</td>\n",
              "      <td>UNIVERSITY OF UTAH HEALTH CARE</td>\n",
              "      <td>...</td>\n",
              "      <td>7.929558</td>\n",
              "      <td>0.881971</td>\n",
              "      <td>0.5</td>\n",
              "      <td>FAC_HOME_DIST</td>\n",
              "      <td>SJ95_HOME_DIST</td>\n",
              "      <td>SJ06_HOME_DIST</td>\n",
              "      <td>SJ09_HOME_DIST</td>\n",
              "      <td>SJ95_HOME_DIST</td>\n",
              "      <td>Utah - Wasatch Front</td>\n",
              "      <td>True</td>\n",
              "    </tr>\n",
              "    <tr>\n",
              "      <th>2016</th>\n",
              "      <td>394385694</td>\n",
              "      <td>65 - 69</td>\n",
              "      <td>84096.0</td>\n",
              "      <td>Salt Lake County</td>\n",
              "      <td>UT</td>\n",
              "      <td>F</td>\n",
              "      <td>125</td>\n",
              "      <td>Univ Hosp. | Clinics</td>\n",
              "      <td>University of Utah Health</td>\n",
              "      <td>UNIVERSITY OF UTAH HEALTH CARE</td>\n",
              "      <td>...</td>\n",
              "      <td>9.208881</td>\n",
              "      <td>6.446068</td>\n",
              "      <td>1.0</td>\n",
              "      <td>FAC_HOME_DIST</td>\n",
              "      <td>SJ95_HOME_DIST</td>\n",
              "      <td>SJ06_HOME_DIST</td>\n",
              "      <td>SJ09_HOME_DIST</td>\n",
              "      <td>SJ95_HOME_DIST</td>\n",
              "      <td>Utah - Wasatch Front</td>\n",
              "      <td>True</td>\n",
              "    </tr>\n",
              "    <tr>\n",
              "      <th>2244</th>\n",
              "      <td>393396868</td>\n",
              "      <td>45 - 49</td>\n",
              "      <td>84020.0</td>\n",
              "      <td>Salt Lake County</td>\n",
              "      <td>UT</td>\n",
              "      <td>F</td>\n",
              "      <td>416</td>\n",
              "      <td>Moran</td>\n",
              "      <td>University of Utah Health</td>\n",
              "      <td>NaN</td>\n",
              "      <td>...</td>\n",
              "      <td>20.057447</td>\n",
              "      <td>12.348157</td>\n",
              "      <td>1.0</td>\n",
              "      <td>FAC_HOME_DIST</td>\n",
              "      <td>SJ95_HOME_DIST</td>\n",
              "      <td>SJ06_HOME_DIST</td>\n",
              "      <td>SJ09_HOME_DIST</td>\n",
              "      <td>SJ95_HOME_DIST</td>\n",
              "      <td>Utah - Wasatch Front</td>\n",
              "      <td>True</td>\n",
              "    </tr>\n",
              "    <tr>\n",
              "      <th>...</th>\n",
              "      <td>...</td>\n",
              "      <td>...</td>\n",
              "      <td>...</td>\n",
              "      <td>...</td>\n",
              "      <td>...</td>\n",
              "      <td>...</td>\n",
              "      <td>...</td>\n",
              "      <td>...</td>\n",
              "      <td>...</td>\n",
              "      <td>...</td>\n",
              "      <td>...</td>\n",
              "      <td>...</td>\n",
              "      <td>...</td>\n",
              "      <td>...</td>\n",
              "      <td>...</td>\n",
              "      <td>...</td>\n",
              "      <td>...</td>\n",
              "      <td>...</td>\n",
              "      <td>...</td>\n",
              "      <td>...</td>\n",
              "      <td>...</td>\n",
              "    </tr>\n",
              "    <tr>\n",
              "      <th>118762</th>\n",
              "      <td>394817494</td>\n",
              "      <td>50 - 54</td>\n",
              "      <td>84020.0</td>\n",
              "      <td>Salt Lake County</td>\n",
              "      <td>UT</td>\n",
              "      <td>F</td>\n",
              "      <td>422</td>\n",
              "      <td>Utah Surgical Center</td>\n",
              "      <td>HCA Mountainstar</td>\n",
              "      <td>NUETERRA</td>\n",
              "      <td>...</td>\n",
              "      <td>20.057447</td>\n",
              "      <td>12.348157</td>\n",
              "      <td>0.5</td>\n",
              "      <td>FAC_HOME_DIST</td>\n",
              "      <td>SJ95_HOME_DIST</td>\n",
              "      <td>SJ06_HOME_DIST</td>\n",
              "      <td>SJ09_HOME_DIST</td>\n",
              "      <td>SJ95_HOME_DIST</td>\n",
              "      <td>Utah - Wasatch Front</td>\n",
              "      <td>True</td>\n",
              "    </tr>\n",
              "    <tr>\n",
              "      <th>118771</th>\n",
              "      <td>393231361</td>\n",
              "      <td>60 - 64</td>\n",
              "      <td>84020.0</td>\n",
              "      <td>Salt Lake County</td>\n",
              "      <td>UT</td>\n",
              "      <td>F</td>\n",
              "      <td>120</td>\n",
              "      <td>Salt Lake Regional Medical Center</td>\n",
              "      <td>Steward Healthcare</td>\n",
              "      <td>SALT LAKE REGIONAL MEDICAL, LP</td>\n",
              "      <td>...</td>\n",
              "      <td>20.057447</td>\n",
              "      <td>12.348157</td>\n",
              "      <td>0.5</td>\n",
              "      <td>FAC_HOME_DIST</td>\n",
              "      <td>SJ95_HOME_DIST</td>\n",
              "      <td>SJ06_HOME_DIST</td>\n",
              "      <td>SJ09_HOME_DIST</td>\n",
              "      <td>SJ95_HOME_DIST</td>\n",
              "      <td>Utah - Wasatch Front</td>\n",
              "      <td>True</td>\n",
              "    </tr>\n",
              "    <tr>\n",
              "      <th>118773</th>\n",
              "      <td>393227055</td>\n",
              "      <td>65 - 69</td>\n",
              "      <td>84065.0</td>\n",
              "      <td>Salt Lake County</td>\n",
              "      <td>UT</td>\n",
              "      <td>M</td>\n",
              "      <td>120</td>\n",
              "      <td>Salt Lake Regional Medical Center</td>\n",
              "      <td>Steward Healthcare</td>\n",
              "      <td>SALT LAKE REGIONAL MEDICAL, LP</td>\n",
              "      <td>...</td>\n",
              "      <td>14.565213</td>\n",
              "      <td>7.910693</td>\n",
              "      <td>1.0</td>\n",
              "      <td>FAC_HOME_DIST</td>\n",
              "      <td>SJ95_HOME_DIST</td>\n",
              "      <td>SJ06_HOME_DIST</td>\n",
              "      <td>SJ09_HOME_DIST</td>\n",
              "      <td>SJ95_HOME_DIST</td>\n",
              "      <td>Utah - Wasatch Front</td>\n",
              "      <td>True</td>\n",
              "    </tr>\n",
              "    <tr>\n",
              "      <th>118774</th>\n",
              "      <td>393225177</td>\n",
              "      <td>80 - 84</td>\n",
              "      <td>84094.0</td>\n",
              "      <td>Salt Lake County</td>\n",
              "      <td>UT</td>\n",
              "      <td>M</td>\n",
              "      <td>120</td>\n",
              "      <td>Salt Lake Regional Medical Center</td>\n",
              "      <td>Steward Healthcare</td>\n",
              "      <td>SALT LAKE REGIONAL MEDICAL, LP</td>\n",
              "      <td>...</td>\n",
              "      <td>19.872752</td>\n",
              "      <td>11.677286</td>\n",
              "      <td>1.0</td>\n",
              "      <td>FAC_HOME_DIST</td>\n",
              "      <td>SJ95_HOME_DIST</td>\n",
              "      <td>SJ06_HOME_DIST</td>\n",
              "      <td>SJ09_HOME_DIST</td>\n",
              "      <td>SJ95_HOME_DIST</td>\n",
              "      <td>Utah - Wasatch Front</td>\n",
              "      <td>True</td>\n",
              "    </tr>\n",
              "    <tr>\n",
              "      <th>118776</th>\n",
              "      <td>393230971</td>\n",
              "      <td>85 - 89</td>\n",
              "      <td>84121.0</td>\n",
              "      <td>Salt Lake County</td>\n",
              "      <td>UT</td>\n",
              "      <td>M</td>\n",
              "      <td>120</td>\n",
              "      <td>Salt Lake Regional Medical Center</td>\n",
              "      <td>Steward Healthcare</td>\n",
              "      <td>SALT LAKE REGIONAL MEDICAL, LP</td>\n",
              "      <td>...</td>\n",
              "      <td>24.038568</td>\n",
              "      <td>16.406879</td>\n",
              "      <td>1.0</td>\n",
              "      <td>FAC_HOME_DIST</td>\n",
              "      <td>SJ95_HOME_DIST</td>\n",
              "      <td>FAC_HOME_DIST</td>\n",
              "      <td>FAC_HOME_DIST</td>\n",
              "      <td>SJ95_HOME_DIST</td>\n",
              "      <td>Utah - Wasatch Front</td>\n",
              "      <td>True</td>\n",
              "    </tr>\n",
              "  </tbody>\n",
              "</table>\n",
              "<p>13241 rows × 33 columns</p>\n",
              "</div>\n",
              "      <button class=\"colab-df-convert\" onclick=\"convertToInteractive('df-4e6ac149-d5aa-449c-aeb5-4c870c9b1bcd')\"\n",
              "              title=\"Convert this dataframe to an interactive table.\"\n",
              "              style=\"display:none;\">\n",
              "        \n",
              "  <svg xmlns=\"http://www.w3.org/2000/svg\" height=\"24px\"viewBox=\"0 0 24 24\"\n",
              "       width=\"24px\">\n",
              "    <path d=\"M0 0h24v24H0V0z\" fill=\"none\"/>\n",
              "    <path d=\"M18.56 5.44l.94 2.06.94-2.06 2.06-.94-2.06-.94-.94-2.06-.94 2.06-2.06.94zm-11 1L8.5 8.5l.94-2.06 2.06-.94-2.06-.94L8.5 2.5l-.94 2.06-2.06.94zm10 10l.94 2.06.94-2.06 2.06-.94-2.06-.94-.94-2.06-.94 2.06-2.06.94z\"/><path d=\"M17.41 7.96l-1.37-1.37c-.4-.4-.92-.59-1.43-.59-.52 0-1.04.2-1.43.59L10.3 9.45l-7.72 7.72c-.78.78-.78 2.05 0 2.83L4 21.41c.39.39.9.59 1.41.59.51 0 1.02-.2 1.41-.59l7.78-7.78 2.81-2.81c.8-.78.8-2.07 0-2.86zM5.41 20L4 18.59l7.72-7.72 1.47 1.35L5.41 20z\"/>\n",
              "  </svg>\n",
              "      </button>\n",
              "      \n",
              "  <style>\n",
              "    .colab-df-container {\n",
              "      display:flex;\n",
              "      flex-wrap:wrap;\n",
              "      gap: 12px;\n",
              "    }\n",
              "\n",
              "    .colab-df-convert {\n",
              "      background-color: #E8F0FE;\n",
              "      border: none;\n",
              "      border-radius: 50%;\n",
              "      cursor: pointer;\n",
              "      display: none;\n",
              "      fill: #1967D2;\n",
              "      height: 32px;\n",
              "      padding: 0 0 0 0;\n",
              "      width: 32px;\n",
              "    }\n",
              "\n",
              "    .colab-df-convert:hover {\n",
              "      background-color: #E2EBFA;\n",
              "      box-shadow: 0px 1px 2px rgba(60, 64, 67, 0.3), 0px 1px 3px 1px rgba(60, 64, 67, 0.15);\n",
              "      fill: #174EA6;\n",
              "    }\n",
              "\n",
              "    [theme=dark] .colab-df-convert {\n",
              "      background-color: #3B4455;\n",
              "      fill: #D2E3FC;\n",
              "    }\n",
              "\n",
              "    [theme=dark] .colab-df-convert:hover {\n",
              "      background-color: #434B5C;\n",
              "      box-shadow: 0px 1px 3px 1px rgba(0, 0, 0, 0.15);\n",
              "      filter: drop-shadow(0px 1px 2px rgba(0, 0, 0, 0.3));\n",
              "      fill: #FFFFFF;\n",
              "    }\n",
              "  </style>\n",
              "\n",
              "      <script>\n",
              "        const buttonEl =\n",
              "          document.querySelector('#df-4e6ac149-d5aa-449c-aeb5-4c870c9b1bcd button.colab-df-convert');\n",
              "        buttonEl.style.display =\n",
              "          google.colab.kernel.accessAllowed ? 'block' : 'none';\n",
              "\n",
              "        async function convertToInteractive(key) {\n",
              "          const element = document.querySelector('#df-4e6ac149-d5aa-449c-aeb5-4c870c9b1bcd');\n",
              "          const dataTable =\n",
              "            await google.colab.kernel.invokeFunction('convertToInteractive',\n",
              "                                                     [key], {});\n",
              "          if (!dataTable) return;\n",
              "\n",
              "          const docLinkHtml = 'Like what you see? Visit the ' +\n",
              "            '<a target=\"_blank\" href=https://colab.research.google.com/notebooks/data_table.ipynb>data table notebook</a>'\n",
              "            + ' to learn more about interactive tables.';\n",
              "          element.innerHTML = '';\n",
              "          dataTable['output_type'] = 'display_data';\n",
              "          await google.colab.output.renderOutput(dataTable, element);\n",
              "          const docLink = document.createElement('div');\n",
              "          docLink.innerHTML = docLinkHtml;\n",
              "          element.appendChild(docLink);\n",
              "        }\n",
              "      </script>\n",
              "    </div>\n",
              "  </div>\n",
              "  "
            ]
          },
          "metadata": {},
          "execution_count": 76
        }
      ]
    },
    {
      "cell_type": "code",
      "source": [
        "plt.xticks(rotation=90, ha='right')\n",
        "plt.bar(sj_zip_count_95.index.astype(str), sj_zip_count_95.values,color=\"plum\")\n",
        "plt.xlabel(\"Zipcode\")\n",
        "plt.ylabel(\"No.of surgeries\")\n",
        "plt.title(\"No.of surgeries taking place in each Zipcode if we start a facility in South Jordan 84095\")"
      ],
      "metadata": {
        "colab": {
          "base_uri": "https://localhost:8080/",
          "height": 520
        },
        "id": "C0BOKXuBDWiz",
        "outputId": "57967114-77a5-43ac-f1c0-41c47ff8990a"
      },
      "execution_count": 77,
      "outputs": [
        {
          "output_type": "execute_result",
          "data": {
            "text/plain": [
              "Text(0.5, 1.0, 'No.of surgeries taking place in each Zipcode if we start a facility in South Jordan 84095')"
            ]
          },
          "metadata": {},
          "execution_count": 77
        },
        {
          "output_type": "display_data",
          "data": {
            "text/plain": [
              "<Figure size 640x480 with 1 Axes>"
            ],
            "image/png": "[encoded data removed]"
          },
          "metadata": {}
        }
      ]
    },
    {
      "cell_type": "code",
      "source": [
        "sj_tot_95 = sj_capture_df_95.groupby(\"FACILITY_ZIP_CODE\").agg({\"INSURANCE\" : sum}).sort_values(by=\"INSURANCE\", ascending=False).sum()[0]\n",
        "\n",
        "print(\"Total number of expected surgeries in the South Jordan Facility are - {}\".format(int(sj_tot_95)))"
      ],
      "metadata": {
        "colab": {
          "base_uri": "https://localhost:8080/"
        },
        "id": "895xsfEMDWft",
        "outputId": "1b6d67b5-ec48-49be-e4c4-a633f65572e2"
      },
      "execution_count": 78,
      "outputs": [
        {
          "output_type": "stream",
          "name": "stdout",
          "text": [
            "Total number of expected surgeries in the South Jordan Facility are - 10647\n"
          ]
        }
      ]
    },
    {
      "cell_type": "markdown",
      "source": [
        "** Total number of expected surgeries if a facility is established in South Jordan84095 - 10647"
      ],
      "metadata": {
        "id": "QUJpw7hrQP9f"
      }
    },
    {
      "cell_type": "code",
      "source": [
        "sj_capture_df_95.groupby(\"FACILITY_ZIP_CODE\").agg({\"INSURANCE\" : sum}).sort_values(by=\"INSURANCE\", ascending=False)[1:].sum()\n"
      ],
      "metadata": {
        "colab": {
          "base_uri": "https://localhost:8080/"
        },
        "id": "ivVnOx5kDWcz",
        "outputId": "5dcb3272-bff6-4ebb-d92b-cb187d8a34b9"
      },
      "execution_count": 79,
      "outputs": [
        {
          "output_type": "execute_result",
          "data": {
            "text/plain": [
              "INSURANCE    4595.363012\n",
              "dtype: float64"
            ]
          },
          "metadata": {},
          "execution_count": 79
        }
      ]
    },
    {
      "cell_type": "markdown",
      "source": [
        "** No.of additional surgeries we can expect from the zipcodes that are currently dominated by Non-UoU health facilities if we establish a facility in South Jordan 84095 are 4775."
      ],
      "metadata": {
        "id": "6u2IK0MCQW06"
      }
    },
    {
      "cell_type": "code",
      "source": [
        "print(\"Additional percentage captured by adding a new facility in South Jordan 84095 - {} %\".format(round(4595*100/24481, 2)))"
      ],
      "metadata": {
        "colab": {
          "base_uri": "https://localhost:8080/"
        },
        "id": "2uHXHFmlDWZ8",
        "outputId": "af1e21ac-8281-4bdd-dd62-65c3e9a2bdd8"
      },
      "execution_count": 80,
      "outputs": [
        {
          "output_type": "stream",
          "name": "stdout",
          "text": [
            "Additional percentage captured by adding a new facility in South Jordan 84095 - 18.77 %\n"
          ]
        }
      ]
    },
    {
      "cell_type": "markdown",
      "source": [
        "**So the additional percentage of market share that can be captured from the zipcodes that are currently dominated by Non-UoU health facilities if we establish a facility in South Jordan 84095 is 18.77%**"
      ],
      "metadata": {
        "id": "yl9mq6AbQgJL"
      }
    },
    {
      "cell_type": "markdown",
      "source": [
        "# What do we observe if a facility is established in South Jordan 84006:"
      ],
      "metadata": {
        "id": "YarfEU0kDwqX"
      }
    },
    {
      "cell_type": "code",
      "source": [
        "sj_capture_df_06 = surgery_df[surgery_df[\"BEST_FAC_SJ06\"] == \"SJ06_HOME_DIST\"]\n",
        "sj_zip_count_06 = sj_capture_df_06[\"FACILITY_ZIP_CODE\"].value_counts()\n",
        "sj_capture_df_06"
      ],
      "metadata": {
        "colab": {
          "base_uri": "https://localhost:8080/",
          "height": 852
        },
        "id": "Fbbb-xGxDWWz",
        "outputId": "6b965987-a146-4502-eed6-be058e05f066"
      },
      "execution_count": 81,
      "outputs": [
        {
          "output_type": "execute_result",
          "data": {
            "text/plain": [
              "        RECORD_ID AGE_GROUP  PATIENT_ZIP_CODE    PATIENT_COUNTY PATIENT_STATE  \\\n",
              "799     393261206     1 - 4           84651.0       Utah County            UT   \n",
              "1734    394083626   65 - 69           84096.0  Salt Lake County            UT   \n",
              "1739    393648845   55 - 59           84009.0  Salt Lake County            UT   \n",
              "2016    394385694   65 - 69           84096.0  Salt Lake County            UT   \n",
              "2244    393396868   45 - 49           84020.0  Salt Lake County            UT   \n",
              "...           ...       ...               ...               ...           ...   \n",
              "118759  393627976   25 - 29           84532.0      Grand County            UT   \n",
              "118762  394817494   50 - 54           84020.0  Salt Lake County            UT   \n",
              "118771  393231361   60 - 64           84020.0  Salt Lake County            UT   \n",
              "118773  393227055   65 - 69           84065.0  Salt Lake County            UT   \n",
              "118774  393225177   80 - 84           84094.0  Salt Lake County            UT   \n",
              "\n",
              "       PATIENT_GENDER  FACILITY_ID                      FACILITY_NAME  \\\n",
              "799                 M          122         Primary Childrens Hospital   \n",
              "1734                M          125               Univ Hosp. | Clinics   \n",
              "1739                M          125               Univ Hosp. | Clinics   \n",
              "2016                F          125               Univ Hosp. | Clinics   \n",
              "2244                F          416                              Moran   \n",
              "...               ...          ...                                ...   \n",
              "118759              F          416                              Moran   \n",
              "118762              F          422               Utah Surgical Center   \n",
              "118771              F          120  Salt Lake Regional Medical Center   \n",
              "118773              M          120  Salt Lake Regional Medical Center   \n",
              "118774              M          120  Salt Lake Regional Medical Center   \n",
              "\n",
              "                      FACILITY_AFF              FACILITY_OWNERSHIP  ...  \\\n",
              "799     Primary Childrens Hospital        INTERMOUNTAIN HEALTHCARE  ...   \n",
              "1734     University of Utah Health  UNIVERSITY OF UTAH HEALTH CARE  ...   \n",
              "1739     University of Utah Health  UNIVERSITY OF UTAH HEALTH CARE  ...   \n",
              "2016     University of Utah Health  UNIVERSITY OF UTAH HEALTH CARE  ...   \n",
              "2244     University of Utah Health                             NaN  ...   \n",
              "...                            ...                             ...  ...   \n",
              "118759   University of Utah Health                             NaN  ...   \n",
              "118762            HCA Mountainstar                        NUETERRA  ...   \n",
              "118771          Steward Healthcare  SALT LAKE REGIONAL MEDICAL, LP  ...   \n",
              "118773          Steward Healthcare  SALT LAKE REGIONAL MEDICAL, LP  ...   \n",
              "118774          Steward Healthcare  SALT LAKE REGIONAL MEDICAL, LP  ...   \n",
              "\n",
              "        SJ06_HOME_DIST  SJ09_HOME_DIST  INSURANCE  BEST_FAC_FARM  \\\n",
              "799          66.942634       63.283152        0.5  FAC_HOME_DIST   \n",
              "1734          9.208881        6.446068        0.5  FAC_HOME_DIST   \n",
              "1739          7.929558        0.881971        0.5  FAC_HOME_DIST   \n",
              "2016          9.208881        6.446068        1.0  FAC_HOME_DIST   \n",
              "2244         20.057447       12.348157        1.0  FAC_HOME_DIST   \n",
              "...                ...             ...        ...            ...   \n",
              "118759      313.656265      307.618562        1.0  FAC_HOME_DIST   \n",
              "118762       20.057447       12.348157        0.5  FAC_HOME_DIST   \n",
              "118771       20.057447       12.348157        0.5  FAC_HOME_DIST   \n",
              "118773       14.565213        7.910693        1.0  FAC_HOME_DIST   \n",
              "118774       19.872752       11.677286        1.0  FAC_HOME_DIST   \n",
              "\n",
              "         BEST_FAC_SJ95   BEST_FAC_SJ06   BEST_FAC_SJ09  BEST_FARM_SJ95  \\\n",
              "799     SJ95_HOME_DIST  SJ06_HOME_DIST  SJ09_HOME_DIST  SJ95_HOME_DIST   \n",
              "1734    SJ95_HOME_DIST  SJ06_HOME_DIST  SJ09_HOME_DIST  SJ95_HOME_DIST   \n",
              "1739    SJ95_HOME_DIST  SJ06_HOME_DIST  SJ09_HOME_DIST  SJ95_HOME_DIST   \n",
              "2016    SJ95_HOME_DIST  SJ06_HOME_DIST  SJ09_HOME_DIST  SJ95_HOME_DIST   \n",
              "2244    SJ95_HOME_DIST  SJ06_HOME_DIST  SJ09_HOME_DIST  SJ95_HOME_DIST   \n",
              "...                ...             ...             ...             ...   \n",
              "118759  SJ95_HOME_DIST  SJ06_HOME_DIST  SJ09_HOME_DIST  SJ95_HOME_DIST   \n",
              "118762  SJ95_HOME_DIST  SJ06_HOME_DIST  SJ09_HOME_DIST  SJ95_HOME_DIST   \n",
              "118771  SJ95_HOME_DIST  SJ06_HOME_DIST  SJ09_HOME_DIST  SJ95_HOME_DIST   \n",
              "118773  SJ95_HOME_DIST  SJ06_HOME_DIST  SJ09_HOME_DIST  SJ95_HOME_DIST   \n",
              "118774  SJ95_HOME_DIST  SJ06_HOME_DIST  SJ09_HOME_DIST  SJ95_HOME_DIST   \n",
              "\n",
              "                      REGION  WASATCH FRONT  \n",
              "799     Utah - Wasatch Front           True  \n",
              "1734    Utah - Wasatch Front           True  \n",
              "1739    Utah - Wasatch Front           True  \n",
              "2016    Utah - Wasatch Front           True  \n",
              "2244    Utah - Wasatch Front           True  \n",
              "...                      ...            ...  \n",
              "118759  Utah - Wasatch Front           True  \n",
              "118762  Utah - Wasatch Front           True  \n",
              "118771  Utah - Wasatch Front           True  \n",
              "118773  Utah - Wasatch Front           True  \n",
              "118774  Utah - Wasatch Front           True  \n",
              "\n",
              "[8414 rows x 33 columns]"
            ],
            "text/html": [
              "\n",
              "  <div id=\"df-47d1be20-1829-4eff-9581-310010655b82\">\n",
              "    <div class=\"colab-df-container\">\n",
              "      <div>\n",
              "<style scoped>\n",
              "    .dataframe tbody tr th:only-of-type {\n",
              "        vertical-align: middle;\n",
              "    }\n",
              "\n",
              "    .dataframe tbody tr th {\n",
              "        vertical-align: top;\n",
              "    }\n",
              "\n",
              "    .dataframe thead th {\n",
              "        text-align: right;\n",
              "    }\n",
              "</style>\n",
              "<table border=\"1\" class=\"dataframe\">\n",
              "  <thead>\n",
              "    <tr style=\"text-align: right;\">\n",
              "      <th></th>\n",
              "      <th>RECORD_ID</th>\n",
              "      <th>AGE_GROUP</th>\n",
              "      <th>PATIENT_ZIP_CODE</th>\n",
              "      <th>PATIENT_COUNTY</th>\n",
              "      <th>PATIENT_STATE</th>\n",
              "      <th>PATIENT_GENDER</th>\n",
              "      <th>FACILITY_ID</th>\n",
              "      <th>FACILITY_NAME</th>\n",
              "      <th>FACILITY_AFF</th>\n",
              "      <th>FACILITY_OWNERSHIP</th>\n",
              "      <th>...</th>\n",
              "      <th>SJ06_HOME_DIST</th>\n",
              "      <th>SJ09_HOME_DIST</th>\n",
              "      <th>INSURANCE</th>\n",
              "      <th>BEST_FAC_FARM</th>\n",
              "      <th>BEST_FAC_SJ95</th>\n",
              "      <th>BEST_FAC_SJ06</th>\n",
              "      <th>BEST_FAC_SJ09</th>\n",
              "      <th>BEST_FARM_SJ95</th>\n",
              "      <th>REGION</th>\n",
              "      <th>WASATCH FRONT</th>\n",
              "    </tr>\n",
              "  </thead>\n",
              "  <tbody>\n",
              "    <tr>\n",
              "      <th>799</th>\n",
              "      <td>393261206</td>\n",
              "      <td>1 - 4</td>\n",
              "      <td>84651.0</td>\n",
              "      <td>Utah County</td>\n",
              "      <td>UT</td>\n",
              "      <td>M</td>\n",
              "      <td>122</td>\n",
              "      <td>Primary Childrens Hospital</td>\n",
              "      <td>Primary Childrens Hospital</td>\n",
              "      <td>INTERMOUNTAIN HEALTHCARE</td>\n",
              "      <td>...</td>\n",
              "      <td>66.942634</td>\n",
              "      <td>63.283152</td>\n",
              "      <td>0.5</td>\n",
              "      <td>FAC_HOME_DIST</td>\n",
              "      <td>SJ95_HOME_DIST</td>\n",
              "      <td>SJ06_HOME_DIST</td>\n",
              "      <td>SJ09_HOME_DIST</td>\n",
              "      <td>SJ95_HOME_DIST</td>\n",
              "      <td>Utah - Wasatch Front</td>\n",
              "      <td>True</td>\n",
              "    </tr>\n",
              "    <tr>\n",
              "      <th>1734</th>\n",
              "      <td>394083626</td>\n",
              "      <td>65 - 69</td>\n",
              "      <td>84096.0</td>\n",
              "      <td>Salt Lake County</td>\n",
              "      <td>UT</td>\n",
              "      <td>M</td>\n",
              "      <td>125</td>\n",
              "      <td>Univ Hosp. | Clinics</td>\n",
              "      <td>University of Utah Health</td>\n",
              "      <td>UNIVERSITY OF UTAH HEALTH CARE</td>\n",
              "      <td>...</td>\n",
              "      <td>9.208881</td>\n",
              "      <td>6.446068</td>\n",
              "      <td>0.5</td>\n",
              "      <td>FAC_HOME_DIST</td>\n",
              "      <td>SJ95_HOME_DIST</td>\n",
              "      <td>SJ06_HOME_DIST</td>\n",
              "      <td>SJ09_HOME_DIST</td>\n",
              "      <td>SJ95_HOME_DIST</td>\n",
              "      <td>Utah - Wasatch Front</td>\n",
              "      <td>True</td>\n",
              "    </tr>\n",
              "    <tr>\n",
              "      <th>1739</th>\n",
              "      <td>393648845</td>\n",
              "      <td>55 - 59</td>\n",
              "      <td>84009.0</td>\n",
              "      <td>Salt Lake County</td>\n",
              "      <td>UT</td>\n",
              "      <td>M</td>\n",
              "      <td>125</td>\n",
              "      <td>Univ Hosp. | Clinics</td>\n",
              "      <td>University of Utah Health</td>\n",
              "      <td>UNIVERSITY OF UTAH HEALTH CARE</td>\n",
              "      <td>...</td>\n",
              "      <td>7.929558</td>\n",
              "      <td>0.881971</td>\n",
              "      <td>0.5</td>\n",
              "      <td>FAC_HOME_DIST</td>\n",
              "      <td>SJ95_HOME_DIST</td>\n",
              "      <td>SJ06_HOME_DIST</td>\n",
              "      <td>SJ09_HOME_DIST</td>\n",
              "      <td>SJ95_HOME_DIST</td>\n",
              "      <td>Utah - Wasatch Front</td>\n",
              "      <td>True</td>\n",
              "    </tr>\n",
              "    <tr>\n",
              "      <th>2016</th>\n",
              "      <td>394385694</td>\n",
              "      <td>65 - 69</td>\n",
              "      <td>84096.0</td>\n",
              "      <td>Salt Lake County</td>\n",
              "      <td>UT</td>\n",
              "      <td>F</td>\n",
              "      <td>125</td>\n",
              "      <td>Univ Hosp. | Clinics</td>\n",
              "      <td>University of Utah Health</td>\n",
              "      <td>UNIVERSITY OF UTAH HEALTH CARE</td>\n",
              "      <td>...</td>\n",
              "      <td>9.208881</td>\n",
              "      <td>6.446068</td>\n",
              "      <td>1.0</td>\n",
              "      <td>FAC_HOME_DIST</td>\n",
              "      <td>SJ95_HOME_DIST</td>\n",
              "      <td>SJ06_HOME_DIST</td>\n",
              "      <td>SJ09_HOME_DIST</td>\n",
              "      <td>SJ95_HOME_DIST</td>\n",
              "      <td>Utah - Wasatch Front</td>\n",
              "      <td>True</td>\n",
              "    </tr>\n",
              "    <tr>\n",
              "      <th>2244</th>\n",
              "      <td>393396868</td>\n",
              "      <td>45 - 49</td>\n",
              "      <td>84020.0</td>\n",
              "      <td>Salt Lake County</td>\n",
              "      <td>UT</td>\n",
              "      <td>F</td>\n",
              "      <td>416</td>\n",
              "      <td>Moran</td>\n",
              "      <td>University of Utah Health</td>\n",
              "      <td>NaN</td>\n",
              "      <td>...</td>\n",
              "      <td>20.057447</td>\n",
              "      <td>12.348157</td>\n",
              "      <td>1.0</td>\n",
              "      <td>FAC_HOME_DIST</td>\n",
              "      <td>SJ95_HOME_DIST</td>\n",
              "      <td>SJ06_HOME_DIST</td>\n",
              "      <td>SJ09_HOME_DIST</td>\n",
              "      <td>SJ95_HOME_DIST</td>\n",
              "      <td>Utah - Wasatch Front</td>\n",
              "      <td>True</td>\n",
              "    </tr>\n",
              "    <tr>\n",
              "      <th>...</th>\n",
              "      <td>...</td>\n",
              "      <td>...</td>\n",
              "      <td>...</td>\n",
              "      <td>...</td>\n",
              "      <td>...</td>\n",
              "      <td>...</td>\n",
              "      <td>...</td>\n",
              "      <td>...</td>\n",
              "      <td>...</td>\n",
              "      <td>...</td>\n",
              "      <td>...</td>\n",
              "      <td>...</td>\n",
              "      <td>...</td>\n",
              "      <td>...</td>\n",
              "      <td>...</td>\n",
              "      <td>...</td>\n",
              "      <td>...</td>\n",
              "      <td>...</td>\n",
              "      <td>...</td>\n",
              "      <td>...</td>\n",
              "      <td>...</td>\n",
              "    </tr>\n",
              "    <tr>\n",
              "      <th>118759</th>\n",
              "      <td>393627976</td>\n",
              "      <td>25 - 29</td>\n",
              "      <td>84532.0</td>\n",
              "      <td>Grand County</td>\n",
              "      <td>UT</td>\n",
              "      <td>F</td>\n",
              "      <td>416</td>\n",
              "      <td>Moran</td>\n",
              "      <td>University of Utah Health</td>\n",
              "      <td>NaN</td>\n",
              "      <td>...</td>\n",
              "      <td>313.656265</td>\n",
              "      <td>307.618562</td>\n",
              "      <td>1.0</td>\n",
              "      <td>FAC_HOME_DIST</td>\n",
              "      <td>SJ95_HOME_DIST</td>\n",
              "      <td>SJ06_HOME_DIST</td>\n",
              "      <td>SJ09_HOME_DIST</td>\n",
              "      <td>SJ95_HOME_DIST</td>\n",
              "      <td>Utah - Wasatch Front</td>\n",
              "      <td>True</td>\n",
              "    </tr>\n",
              "    <tr>\n",
              "      <th>118762</th>\n",
              "      <td>394817494</td>\n",
              "      <td>50 - 54</td>\n",
              "      <td>84020.0</td>\n",
              "      <td>Salt Lake County</td>\n",
              "      <td>UT</td>\n",
              "      <td>F</td>\n",
              "      <td>422</td>\n",
              "      <td>Utah Surgical Center</td>\n",
              "      <td>HCA Mountainstar</td>\n",
              "      <td>NUETERRA</td>\n",
              "      <td>...</td>\n",
              "      <td>20.057447</td>\n",
              "      <td>12.348157</td>\n",
              "      <td>0.5</td>\n",
              "      <td>FAC_HOME_DIST</td>\n",
              "      <td>SJ95_HOME_DIST</td>\n",
              "      <td>SJ06_HOME_DIST</td>\n",
              "      <td>SJ09_HOME_DIST</td>\n",
              "      <td>SJ95_HOME_DIST</td>\n",
              "      <td>Utah - Wasatch Front</td>\n",
              "      <td>True</td>\n",
              "    </tr>\n",
              "    <tr>\n",
              "      <th>118771</th>\n",
              "      <td>393231361</td>\n",
              "      <td>60 - 64</td>\n",
              "      <td>84020.0</td>\n",
              "      <td>Salt Lake County</td>\n",
              "      <td>UT</td>\n",
              "      <td>F</td>\n",
              "      <td>120</td>\n",
              "      <td>Salt Lake Regional Medical Center</td>\n",
              "      <td>Steward Healthcare</td>\n",
              "      <td>SALT LAKE REGIONAL MEDICAL, LP</td>\n",
              "      <td>...</td>\n",
              "      <td>20.057447</td>\n",
              "      <td>12.348157</td>\n",
              "      <td>0.5</td>\n",
              "      <td>FAC_HOME_DIST</td>\n",
              "      <td>SJ95_HOME_DIST</td>\n",
              "      <td>SJ06_HOME_DIST</td>\n",
              "      <td>SJ09_HOME_DIST</td>\n",
              "      <td>SJ95_HOME_DIST</td>\n",
              "      <td>Utah - Wasatch Front</td>\n",
              "      <td>True</td>\n",
              "    </tr>\n",
              "    <tr>\n",
              "      <th>118773</th>\n",
              "      <td>393227055</td>\n",
              "      <td>65 - 69</td>\n",
              "      <td>84065.0</td>\n",
              "      <td>Salt Lake County</td>\n",
              "      <td>UT</td>\n",
              "      <td>M</td>\n",
              "      <td>120</td>\n",
              "      <td>Salt Lake Regional Medical Center</td>\n",
              "      <td>Steward Healthcare</td>\n",
              "      <td>SALT LAKE REGIONAL MEDICAL, LP</td>\n",
              "      <td>...</td>\n",
              "      <td>14.565213</td>\n",
              "      <td>7.910693</td>\n",
              "      <td>1.0</td>\n",
              "      <td>FAC_HOME_DIST</td>\n",
              "      <td>SJ95_HOME_DIST</td>\n",
              "      <td>SJ06_HOME_DIST</td>\n",
              "      <td>SJ09_HOME_DIST</td>\n",
              "      <td>SJ95_HOME_DIST</td>\n",
              "      <td>Utah - Wasatch Front</td>\n",
              "      <td>True</td>\n",
              "    </tr>\n",
              "    <tr>\n",
              "      <th>118774</th>\n",
              "      <td>393225177</td>\n",
              "      <td>80 - 84</td>\n",
              "      <td>84094.0</td>\n",
              "      <td>Salt Lake County</td>\n",
              "      <td>UT</td>\n",
              "      <td>M</td>\n",
              "      <td>120</td>\n",
              "      <td>Salt Lake Regional Medical Center</td>\n",
              "      <td>Steward Healthcare</td>\n",
              "      <td>SALT LAKE REGIONAL MEDICAL, LP</td>\n",
              "      <td>...</td>\n",
              "      <td>19.872752</td>\n",
              "      <td>11.677286</td>\n",
              "      <td>1.0</td>\n",
              "      <td>FAC_HOME_DIST</td>\n",
              "      <td>SJ95_HOME_DIST</td>\n",
              "      <td>SJ06_HOME_DIST</td>\n",
              "      <td>SJ09_HOME_DIST</td>\n",
              "      <td>SJ95_HOME_DIST</td>\n",
              "      <td>Utah - Wasatch Front</td>\n",
              "      <td>True</td>\n",
              "    </tr>\n",
              "  </tbody>\n",
              "</table>\n",
              "<p>8414 rows × 33 columns</p>\n",
              "</div>\n",
              "      <button class=\"colab-df-convert\" onclick=\"convertToInteractive('df-47d1be20-1829-4eff-9581-310010655b82')\"\n",
              "              title=\"Convert this dataframe to an interactive table.\"\n",
              "              style=\"display:none;\">\n",
              "        \n",
              "  <svg xmlns=\"http://www.w3.org/2000/svg\" height=\"24px\"viewBox=\"0 0 24 24\"\n",
              "       width=\"24px\">\n",
              "    <path d=\"M0 0h24v24H0V0z\" fill=\"none\"/>\n",
              "    <path d=\"M18.56 5.44l.94 2.06.94-2.06 2.06-.94-2.06-.94-.94-2.06-.94 2.06-2.06.94zm-11 1L8.5 8.5l.94-2.06 2.06-.94-2.06-.94L8.5 2.5l-.94 2.06-2.06.94zm10 10l.94 2.06.94-2.06 2.06-.94-2.06-.94-.94-2.06-.94 2.06-2.06.94z\"/><path d=\"M17.41 7.96l-1.37-1.37c-.4-.4-.92-.59-1.43-.59-.52 0-1.04.2-1.43.59L10.3 9.45l-7.72 7.72c-.78.78-.78 2.05 0 2.83L4 21.41c.39.39.9.59 1.41.59.51 0 1.02-.2 1.41-.59l7.78-7.78 2.81-2.81c.8-.78.8-2.07 0-2.86zM5.41 20L4 18.59l7.72-7.72 1.47 1.35L5.41 20z\"/>\n",
              "  </svg>\n",
              "      </button>\n",
              "      \n",
              "  <style>\n",
              "    .colab-df-container {\n",
              "      display:flex;\n",
              "      flex-wrap:wrap;\n",
              "      gap: 12px;\n",
              "    }\n",
              "\n",
              "    .colab-df-convert {\n",
              "      background-color: #E8F0FE;\n",
              "      border: none;\n",
              "      border-radius: 50%;\n",
              "      cursor: pointer;\n",
              "      display: none;\n",
              "      fill: #1967D2;\n",
              "      height: 32px;\n",
              "      padding: 0 0 0 0;\n",
              "      width: 32px;\n",
              "    }\n",
              "\n",
              "    .colab-df-convert:hover {\n",
              "      background-color: #E2EBFA;\n",
              "      box-shadow: 0px 1px 2px rgba(60, 64, 67, 0.3), 0px 1px 3px 1px rgba(60, 64, 67, 0.15);\n",
              "      fill: #174EA6;\n",
              "    }\n",
              "\n",
              "    [theme=dark] .colab-df-convert {\n",
              "      background-color: #3B4455;\n",
              "      fill: #D2E3FC;\n",
              "    }\n",
              "\n",
              "    [theme=dark] .colab-df-convert:hover {\n",
              "      background-color: #434B5C;\n",
              "      box-shadow: 0px 1px 3px 1px rgba(0, 0, 0, 0.15);\n",
              "      filter: drop-shadow(0px 1px 2px rgba(0, 0, 0, 0.3));\n",
              "      fill: #FFFFFF;\n",
              "    }\n",
              "  </style>\n",
              "\n",
              "      <script>\n",
              "        const buttonEl =\n",
              "          document.querySelector('#df-47d1be20-1829-4eff-9581-310010655b82 button.colab-df-convert');\n",
              "        buttonEl.style.display =\n",
              "          google.colab.kernel.accessAllowed ? 'block' : 'none';\n",
              "\n",
              "        async function convertToInteractive(key) {\n",
              "          const element = document.querySelector('#df-47d1be20-1829-4eff-9581-310010655b82');\n",
              "          const dataTable =\n",
              "            await google.colab.kernel.invokeFunction('convertToInteractive',\n",
              "                                                     [key], {});\n",
              "          if (!dataTable) return;\n",
              "\n",
              "          const docLinkHtml = 'Like what you see? Visit the ' +\n",
              "            '<a target=\"_blank\" href=https://colab.research.google.com/notebooks/data_table.ipynb>data table notebook</a>'\n",
              "            + ' to learn more about interactive tables.';\n",
              "          element.innerHTML = '';\n",
              "          dataTable['output_type'] = 'display_data';\n",
              "          await google.colab.output.renderOutput(dataTable, element);\n",
              "          const docLink = document.createElement('div');\n",
              "          docLink.innerHTML = docLinkHtml;\n",
              "          element.appendChild(docLink);\n",
              "        }\n",
              "      </script>\n",
              "    </div>\n",
              "  </div>\n",
              "  "
            ]
          },
          "metadata": {},
          "execution_count": 81
        }
      ]
    },
    {
      "cell_type": "code",
      "source": [
        "plt.xticks(rotation=90, ha='right')\n",
        "plt.bar(sj_zip_count_06.index.astype(str), sj_zip_count_06.values,color=\"cadetblue\")\n",
        "plt.xlabel(\"Zipcode\")\n",
        "plt.ylabel(\"No.of surgeries\")\n",
        "plt.title(\"No.of surgeries taking place in each Zipcode if we start a facility in South Jordan 84006\")"
      ],
      "metadata": {
        "colab": {
          "base_uri": "https://localhost:8080/",
          "height": 520
        },
        "id": "vvkbqBtSDWTq",
        "outputId": "ed06fd33-f861-498a-a413-cad1e76429d8"
      },
      "execution_count": 82,
      "outputs": [
        {
          "output_type": "execute_result",
          "data": {
            "text/plain": [
              "Text(0.5, 1.0, 'No.of surgeries taking place in each Zipcode if we start a facility in South Jordan 84006')"
            ]
          },
          "metadata": {},
          "execution_count": 82
        },
        {
          "output_type": "display_data",
          "data": {
            "text/plain": [
              "<Figure size 640x480 with 1 Axes>"
            ],
            "image/png": "[encoded data removed]"
          },
          "metadata": {}
        }
      ]
    },
    {
      "cell_type": "code",
      "source": [
        "sj_tot_06 = sj_capture_df_06.groupby(\"FACILITY_ZIP_CODE\").agg({\"INSURANCE\" : sum}).sort_values(by=\"INSURANCE\", ascending=False).sum()[0]\n",
        "\n",
        "print(\"Total number of expected surgeries in the South Jordan 06 Facility are - {}\".format(int(sj_tot_06)))"
      ],
      "metadata": {
        "colab": {
          "base_uri": "https://localhost:8080/"
        },
        "id": "Ai9KKUo0DWQ0",
        "outputId": "9fdb1465-1640-4a2c-9e68-6984017fe53b"
      },
      "execution_count": 83,
      "outputs": [
        {
          "output_type": "stream",
          "name": "stdout",
          "text": [
            "Total number of expected surgeries in the South Jordan 06 Facility are - 6768\n"
          ]
        }
      ]
    },
    {
      "cell_type": "markdown",
      "source": [
        "** Total number of expected surgeries if a facility is established in South Jordan84006 - 6768"
      ],
      "metadata": {
        "id": "byucmgu5QsTv"
      }
    },
    {
      "cell_type": "code",
      "source": [
        "sj_capture_df_06.groupby(\"FACILITY_ZIP_CODE\").agg({\"INSURANCE\" : sum}).sort_values(by=\"INSURANCE\", ascending=False)[1:].sum()\n"
      ],
      "metadata": {
        "colab": {
          "base_uri": "https://localhost:8080/"
        },
        "id": "y4O8BTD3DWNy",
        "outputId": "b722eb6a-c7d1-4dc3-a728-55351a900bb2"
      },
      "execution_count": 84,
      "outputs": [
        {
          "output_type": "execute_result",
          "data": {
            "text/plain": [
              "INSURANCE    2413.05309\n",
              "dtype: float64"
            ]
          },
          "metadata": {},
          "execution_count": 84
        }
      ]
    },
    {
      "cell_type": "markdown",
      "source": [
        "** No.of additional surgeries we can expect from the zipcodes that are currently dominated by Non-UoU health facilities if we establish a facility in South Jordan 84006 are 2504."
      ],
      "metadata": {
        "id": "oEMAgbAXQyWe"
      }
    },
    {
      "cell_type": "code",
      "source": [
        "print(\"Additional percentage captured by adding a new facility in South Jordan 84006 - {} %\".format(round(2413*100/24481, 2)))"
      ],
      "metadata": {
        "colab": {
          "base_uri": "https://localhost:8080/"
        },
        "id": "T9sYORxKDWLQ",
        "outputId": "a73d255c-e665-4e81-c671-424d98c09eac"
      },
      "execution_count": 85,
      "outputs": [
        {
          "output_type": "stream",
          "name": "stdout",
          "text": [
            "Additional percentage captured by adding a new facility in South Jordan 84006 - 9.86 %\n"
          ]
        }
      ]
    },
    {
      "cell_type": "markdown",
      "source": [
        "**So the additional percentage of market share that can be captured from the zipcodes that are currently dominated by Non-UoU health facilities if we establish a facility in South Jordan 84006 is 9.86%**"
      ],
      "metadata": {
        "id": "YnF7Y-lwQ4KN"
      }
    },
    {
      "cell_type": "markdown",
      "source": [
        "# What do we observe if a facility is established in South Jordan 84009:"
      ],
      "metadata": {
        "id": "LwTqjiSHEJsk"
      }
    },
    {
      "cell_type": "code",
      "source": [
        "sj_capture_df_09 = surgery_df[surgery_df[\"BEST_FAC_SJ09\"] == \"SJ09_HOME_DIST\"]\n",
        "sj_zip_count_09 = sj_capture_df_09[\"FACILITY_ZIP_CODE\"].value_counts()\n",
        "sj_capture_df_09"
      ],
      "metadata": {
        "colab": {
          "base_uri": "https://localhost:8080/",
          "height": 852
        },
        "id": "VCSmTHtNDWIE",
        "outputId": "50efc7d9-2d2c-4cd2-f43c-1acd88d5d5dd"
      },
      "execution_count": 86,
      "outputs": [
        {
          "output_type": "execute_result",
          "data": {
            "text/plain": [
              "        RECORD_ID AGE_GROUP  PATIENT_ZIP_CODE    PATIENT_COUNTY PATIENT_STATE  \\\n",
              "799     393261206     1 - 4           84651.0       Utah County            UT   \n",
              "1734    394083626   65 - 69           84096.0  Salt Lake County            UT   \n",
              "1739    393648845   55 - 59           84009.0  Salt Lake County            UT   \n",
              "2016    394385694   65 - 69           84096.0  Salt Lake County            UT   \n",
              "2244    393396868   45 - 49           84020.0  Salt Lake County            UT   \n",
              "...           ...       ...               ...               ...           ...   \n",
              "118759  393627976   25 - 29           84532.0      Grand County            UT   \n",
              "118762  394817494   50 - 54           84020.0  Salt Lake County            UT   \n",
              "118771  393231361   60 - 64           84020.0  Salt Lake County            UT   \n",
              "118773  393227055   65 - 69           84065.0  Salt Lake County            UT   \n",
              "118774  393225177   80 - 84           84094.0  Salt Lake County            UT   \n",
              "\n",
              "       PATIENT_GENDER  FACILITY_ID                      FACILITY_NAME  \\\n",
              "799                 M          122         Primary Childrens Hospital   \n",
              "1734                M          125               Univ Hosp. | Clinics   \n",
              "1739                M          125               Univ Hosp. | Clinics   \n",
              "2016                F          125               Univ Hosp. | Clinics   \n",
              "2244                F          416                              Moran   \n",
              "...               ...          ...                                ...   \n",
              "118759              F          416                              Moran   \n",
              "118762              F          422               Utah Surgical Center   \n",
              "118771              F          120  Salt Lake Regional Medical Center   \n",
              "118773              M          120  Salt Lake Regional Medical Center   \n",
              "118774              M          120  Salt Lake Regional Medical Center   \n",
              "\n",
              "                      FACILITY_AFF              FACILITY_OWNERSHIP  ...  \\\n",
              "799     Primary Childrens Hospital        INTERMOUNTAIN HEALTHCARE  ...   \n",
              "1734     University of Utah Health  UNIVERSITY OF UTAH HEALTH CARE  ...   \n",
              "1739     University of Utah Health  UNIVERSITY OF UTAH HEALTH CARE  ...   \n",
              "2016     University of Utah Health  UNIVERSITY OF UTAH HEALTH CARE  ...   \n",
              "2244     University of Utah Health                             NaN  ...   \n",
              "...                            ...                             ...  ...   \n",
              "118759   University of Utah Health                             NaN  ...   \n",
              "118762            HCA Mountainstar                        NUETERRA  ...   \n",
              "118771          Steward Healthcare  SALT LAKE REGIONAL MEDICAL, LP  ...   \n",
              "118773          Steward Healthcare  SALT LAKE REGIONAL MEDICAL, LP  ...   \n",
              "118774          Steward Healthcare  SALT LAKE REGIONAL MEDICAL, LP  ...   \n",
              "\n",
              "        SJ06_HOME_DIST  SJ09_HOME_DIST  INSURANCE  BEST_FAC_FARM  \\\n",
              "799          66.942634       63.283152        0.5  FAC_HOME_DIST   \n",
              "1734          9.208881        6.446068        0.5  FAC_HOME_DIST   \n",
              "1739          7.929558        0.881971        0.5  FAC_HOME_DIST   \n",
              "2016          9.208881        6.446068        1.0  FAC_HOME_DIST   \n",
              "2244         20.057447       12.348157        1.0  FAC_HOME_DIST   \n",
              "...                ...             ...        ...            ...   \n",
              "118759      313.656265      307.618562        1.0  FAC_HOME_DIST   \n",
              "118762       20.057447       12.348157        0.5  FAC_HOME_DIST   \n",
              "118771       20.057447       12.348157        0.5  FAC_HOME_DIST   \n",
              "118773       14.565213        7.910693        1.0  FAC_HOME_DIST   \n",
              "118774       19.872752       11.677286        1.0  FAC_HOME_DIST   \n",
              "\n",
              "         BEST_FAC_SJ95   BEST_FAC_SJ06   BEST_FAC_SJ09  BEST_FARM_SJ95  \\\n",
              "799     SJ95_HOME_DIST  SJ06_HOME_DIST  SJ09_HOME_DIST  SJ95_HOME_DIST   \n",
              "1734    SJ95_HOME_DIST  SJ06_HOME_DIST  SJ09_HOME_DIST  SJ95_HOME_DIST   \n",
              "1739    SJ95_HOME_DIST  SJ06_HOME_DIST  SJ09_HOME_DIST  SJ95_HOME_DIST   \n",
              "2016    SJ95_HOME_DIST  SJ06_HOME_DIST  SJ09_HOME_DIST  SJ95_HOME_DIST   \n",
              "2244    SJ95_HOME_DIST  SJ06_HOME_DIST  SJ09_HOME_DIST  SJ95_HOME_DIST   \n",
              "...                ...             ...             ...             ...   \n",
              "118759  SJ95_HOME_DIST  SJ06_HOME_DIST  SJ09_HOME_DIST  SJ95_HOME_DIST   \n",
              "118762  SJ95_HOME_DIST  SJ06_HOME_DIST  SJ09_HOME_DIST  SJ95_HOME_DIST   \n",
              "118771  SJ95_HOME_DIST  SJ06_HOME_DIST  SJ09_HOME_DIST  SJ95_HOME_DIST   \n",
              "118773  SJ95_HOME_DIST  SJ06_HOME_DIST  SJ09_HOME_DIST  SJ95_HOME_DIST   \n",
              "118774  SJ95_HOME_DIST  SJ06_HOME_DIST  SJ09_HOME_DIST  SJ95_HOME_DIST   \n",
              "\n",
              "                      REGION  WASATCH FRONT  \n",
              "799     Utah - Wasatch Front           True  \n",
              "1734    Utah - Wasatch Front           True  \n",
              "1739    Utah - Wasatch Front           True  \n",
              "2016    Utah - Wasatch Front           True  \n",
              "2244    Utah - Wasatch Front           True  \n",
              "...                      ...            ...  \n",
              "118759  Utah - Wasatch Front           True  \n",
              "118762  Utah - Wasatch Front           True  \n",
              "118771  Utah - Wasatch Front           True  \n",
              "118773  Utah - Wasatch Front           True  \n",
              "118774  Utah - Wasatch Front           True  \n",
              "\n",
              "[11351 rows x 33 columns]"
            ],
            "text/html": [
              "\n",
              "  <div id=\"df-87420f8e-49f3-4221-b174-784821444b4f\">\n",
              "    <div class=\"colab-df-container\">\n",
              "      <div>\n",
              "<style scoped>\n",
              "    .dataframe tbody tr th:only-of-type {\n",
              "        vertical-align: middle;\n",
              "    }\n",
              "\n",
              "    .dataframe tbody tr th {\n",
              "        vertical-align: top;\n",
              "    }\n",
              "\n",
              "    .dataframe thead th {\n",
              "        text-align: right;\n",
              "    }\n",
              "</style>\n",
              "<table border=\"1\" class=\"dataframe\">\n",
              "  <thead>\n",
              "    <tr style=\"text-align: right;\">\n",
              "      <th></th>\n",
              "      <th>RECORD_ID</th>\n",
              "      <th>AGE_GROUP</th>\n",
              "      <th>PATIENT_ZIP_CODE</th>\n",
              "      <th>PATIENT_COUNTY</th>\n",
              "      <th>PATIENT_STATE</th>\n",
              "      <th>PATIENT_GENDER</th>\n",
              "      <th>FACILITY_ID</th>\n",
              "      <th>FACILITY_NAME</th>\n",
              "      <th>FACILITY_AFF</th>\n",
              "      <th>FACILITY_OWNERSHIP</th>\n",
              "      <th>...</th>\n",
              "      <th>SJ06_HOME_DIST</th>\n",
              "      <th>SJ09_HOME_DIST</th>\n",
              "      <th>INSURANCE</th>\n",
              "      <th>BEST_FAC_FARM</th>\n",
              "      <th>BEST_FAC_SJ95</th>\n",
              "      <th>BEST_FAC_SJ06</th>\n",
              "      <th>BEST_FAC_SJ09</th>\n",
              "      <th>BEST_FARM_SJ95</th>\n",
              "      <th>REGION</th>\n",
              "      <th>WASATCH FRONT</th>\n",
              "    </tr>\n",
              "  </thead>\n",
              "  <tbody>\n",
              "    <tr>\n",
              "      <th>799</th>\n",
              "      <td>393261206</td>\n",
              "      <td>1 - 4</td>\n",
              "      <td>84651.0</td>\n",
              "      <td>Utah County</td>\n",
              "      <td>UT</td>\n",
              "      <td>M</td>\n",
              "      <td>122</td>\n",
              "      <td>Primary Childrens Hospital</td>\n",
              "      <td>Primary Childrens Hospital</td>\n",
              "      <td>INTERMOUNTAIN HEALTHCARE</td>\n",
              "      <td>...</td>\n",
              "      <td>66.942634</td>\n",
              "      <td>63.283152</td>\n",
              "      <td>0.5</td>\n",
              "      <td>FAC_HOME_DIST</td>\n",
              "      <td>SJ95_HOME_DIST</td>\n",
              "      <td>SJ06_HOME_DIST</td>\n",
              "      <td>SJ09_HOME_DIST</td>\n",
              "      <td>SJ95_HOME_DIST</td>\n",
              "      <td>Utah - Wasatch Front</td>\n",
              "      <td>True</td>\n",
              "    </tr>\n",
              "    <tr>\n",
              "      <th>1734</th>\n",
              "      <td>394083626</td>\n",
              "      <td>65 - 69</td>\n",
              "      <td>84096.0</td>\n",
              "      <td>Salt Lake County</td>\n",
              "      <td>UT</td>\n",
              "      <td>M</td>\n",
              "      <td>125</td>\n",
              "      <td>Univ Hosp. | Clinics</td>\n",
              "      <td>University of Utah Health</td>\n",
              "      <td>UNIVERSITY OF UTAH HEALTH CARE</td>\n",
              "      <td>...</td>\n",
              "      <td>9.208881</td>\n",
              "      <td>6.446068</td>\n",
              "      <td>0.5</td>\n",
              "      <td>FAC_HOME_DIST</td>\n",
              "      <td>SJ95_HOME_DIST</td>\n",
              "      <td>SJ06_HOME_DIST</td>\n",
              "      <td>SJ09_HOME_DIST</td>\n",
              "      <td>SJ95_HOME_DIST</td>\n",
              "      <td>Utah - Wasatch Front</td>\n",
              "      <td>True</td>\n",
              "    </tr>\n",
              "    <tr>\n",
              "      <th>1739</th>\n",
              "      <td>393648845</td>\n",
              "      <td>55 - 59</td>\n",
              "      <td>84009.0</td>\n",
              "      <td>Salt Lake County</td>\n",
              "      <td>UT</td>\n",
              "      <td>M</td>\n",
              "      <td>125</td>\n",
              "      <td>Univ Hosp. | Clinics</td>\n",
              "      <td>University of Utah Health</td>\n",
              "      <td>UNIVERSITY OF UTAH HEALTH CARE</td>\n",
              "      <td>...</td>\n",
              "      <td>7.929558</td>\n",
              "      <td>0.881971</td>\n",
              "      <td>0.5</td>\n",
              "      <td>FAC_HOME_DIST</td>\n",
              "      <td>SJ95_HOME_DIST</td>\n",
              "      <td>SJ06_HOME_DIST</td>\n",
              "      <td>SJ09_HOME_DIST</td>\n",
              "      <td>SJ95_HOME_DIST</td>\n",
              "      <td>Utah - Wasatch Front</td>\n",
              "      <td>True</td>\n",
              "    </tr>\n",
              "    <tr>\n",
              "      <th>2016</th>\n",
              "      <td>394385694</td>\n",
              "      <td>65 - 69</td>\n",
              "      <td>84096.0</td>\n",
              "      <td>Salt Lake County</td>\n",
              "      <td>UT</td>\n",
              "      <td>F</td>\n",
              "      <td>125</td>\n",
              "      <td>Univ Hosp. | Clinics</td>\n",
              "      <td>University of Utah Health</td>\n",
              "      <td>UNIVERSITY OF UTAH HEALTH CARE</td>\n",
              "      <td>...</td>\n",
              "      <td>9.208881</td>\n",
              "      <td>6.446068</td>\n",
              "      <td>1.0</td>\n",
              "      <td>FAC_HOME_DIST</td>\n",
              "      <td>SJ95_HOME_DIST</td>\n",
              "      <td>SJ06_HOME_DIST</td>\n",
              "      <td>SJ09_HOME_DIST</td>\n",
              "      <td>SJ95_HOME_DIST</td>\n",
              "      <td>Utah - Wasatch Front</td>\n",
              "      <td>True</td>\n",
              "    </tr>\n",
              "    <tr>\n",
              "      <th>2244</th>\n",
              "      <td>393396868</td>\n",
              "      <td>45 - 49</td>\n",
              "      <td>84020.0</td>\n",
              "      <td>Salt Lake County</td>\n",
              "      <td>UT</td>\n",
              "      <td>F</td>\n",
              "      <td>416</td>\n",
              "      <td>Moran</td>\n",
              "      <td>University of Utah Health</td>\n",
              "      <td>NaN</td>\n",
              "      <td>...</td>\n",
              "      <td>20.057447</td>\n",
              "      <td>12.348157</td>\n",
              "      <td>1.0</td>\n",
              "      <td>FAC_HOME_DIST</td>\n",
              "      <td>SJ95_HOME_DIST</td>\n",
              "      <td>SJ06_HOME_DIST</td>\n",
              "      <td>SJ09_HOME_DIST</td>\n",
              "      <td>SJ95_HOME_DIST</td>\n",
              "      <td>Utah - Wasatch Front</td>\n",
              "      <td>True</td>\n",
              "    </tr>\n",
              "    <tr>\n",
              "      <th>...</th>\n",
              "      <td>...</td>\n",
              "      <td>...</td>\n",
              "      <td>...</td>\n",
              "      <td>...</td>\n",
              "      <td>...</td>\n",
              "      <td>...</td>\n",
              "      <td>...</td>\n",
              "      <td>...</td>\n",
              "      <td>...</td>\n",
              "      <td>...</td>\n",
              "      <td>...</td>\n",
              "      <td>...</td>\n",
              "      <td>...</td>\n",
              "      <td>...</td>\n",
              "      <td>...</td>\n",
              "      <td>...</td>\n",
              "      <td>...</td>\n",
              "      <td>...</td>\n",
              "      <td>...</td>\n",
              "      <td>...</td>\n",
              "      <td>...</td>\n",
              "    </tr>\n",
              "    <tr>\n",
              "      <th>118759</th>\n",
              "      <td>393627976</td>\n",
              "      <td>25 - 29</td>\n",
              "      <td>84532.0</td>\n",
              "      <td>Grand County</td>\n",
              "      <td>UT</td>\n",
              "      <td>F</td>\n",
              "      <td>416</td>\n",
              "      <td>Moran</td>\n",
              "      <td>University of Utah Health</td>\n",
              "      <td>NaN</td>\n",
              "      <td>...</td>\n",
              "      <td>313.656265</td>\n",
              "      <td>307.618562</td>\n",
              "      <td>1.0</td>\n",
              "      <td>FAC_HOME_DIST</td>\n",
              "      <td>SJ95_HOME_DIST</td>\n",
              "      <td>SJ06_HOME_DIST</td>\n",
              "      <td>SJ09_HOME_DIST</td>\n",
              "      <td>SJ95_HOME_DIST</td>\n",
              "      <td>Utah - Wasatch Front</td>\n",
              "      <td>True</td>\n",
              "    </tr>\n",
              "    <tr>\n",
              "      <th>118762</th>\n",
              "      <td>394817494</td>\n",
              "      <td>50 - 54</td>\n",
              "      <td>84020.0</td>\n",
              "      <td>Salt Lake County</td>\n",
              "      <td>UT</td>\n",
              "      <td>F</td>\n",
              "      <td>422</td>\n",
              "      <td>Utah Surgical Center</td>\n",
              "      <td>HCA Mountainstar</td>\n",
              "      <td>NUETERRA</td>\n",
              "      <td>...</td>\n",
              "      <td>20.057447</td>\n",
              "      <td>12.348157</td>\n",
              "      <td>0.5</td>\n",
              "      <td>FAC_HOME_DIST</td>\n",
              "      <td>SJ95_HOME_DIST</td>\n",
              "      <td>SJ06_HOME_DIST</td>\n",
              "      <td>SJ09_HOME_DIST</td>\n",
              "      <td>SJ95_HOME_DIST</td>\n",
              "      <td>Utah - Wasatch Front</td>\n",
              "      <td>True</td>\n",
              "    </tr>\n",
              "    <tr>\n",
              "      <th>118771</th>\n",
              "      <td>393231361</td>\n",
              "      <td>60 - 64</td>\n",
              "      <td>84020.0</td>\n",
              "      <td>Salt Lake County</td>\n",
              "      <td>UT</td>\n",
              "      <td>F</td>\n",
              "      <td>120</td>\n",
              "      <td>Salt Lake Regional Medical Center</td>\n",
              "      <td>Steward Healthcare</td>\n",
              "      <td>SALT LAKE REGIONAL MEDICAL, LP</td>\n",
              "      <td>...</td>\n",
              "      <td>20.057447</td>\n",
              "      <td>12.348157</td>\n",
              "      <td>0.5</td>\n",
              "      <td>FAC_HOME_DIST</td>\n",
              "      <td>SJ95_HOME_DIST</td>\n",
              "      <td>SJ06_HOME_DIST</td>\n",
              "      <td>SJ09_HOME_DIST</td>\n",
              "      <td>SJ95_HOME_DIST</td>\n",
              "      <td>Utah - Wasatch Front</td>\n",
              "      <td>True</td>\n",
              "    </tr>\n",
              "    <tr>\n",
              "      <th>118773</th>\n",
              "      <td>393227055</td>\n",
              "      <td>65 - 69</td>\n",
              "      <td>84065.0</td>\n",
              "      <td>Salt Lake County</td>\n",
              "      <td>UT</td>\n",
              "      <td>M</td>\n",
              "      <td>120</td>\n",
              "      <td>Salt Lake Regional Medical Center</td>\n",
              "      <td>Steward Healthcare</td>\n",
              "      <td>SALT LAKE REGIONAL MEDICAL, LP</td>\n",
              "      <td>...</td>\n",
              "      <td>14.565213</td>\n",
              "      <td>7.910693</td>\n",
              "      <td>1.0</td>\n",
              "      <td>FAC_HOME_DIST</td>\n",
              "      <td>SJ95_HOME_DIST</td>\n",
              "      <td>SJ06_HOME_DIST</td>\n",
              "      <td>SJ09_HOME_DIST</td>\n",
              "      <td>SJ95_HOME_DIST</td>\n",
              "      <td>Utah - Wasatch Front</td>\n",
              "      <td>True</td>\n",
              "    </tr>\n",
              "    <tr>\n",
              "      <th>118774</th>\n",
              "      <td>393225177</td>\n",
              "      <td>80 - 84</td>\n",
              "      <td>84094.0</td>\n",
              "      <td>Salt Lake County</td>\n",
              "      <td>UT</td>\n",
              "      <td>M</td>\n",
              "      <td>120</td>\n",
              "      <td>Salt Lake Regional Medical Center</td>\n",
              "      <td>Steward Healthcare</td>\n",
              "      <td>SALT LAKE REGIONAL MEDICAL, LP</td>\n",
              "      <td>...</td>\n",
              "      <td>19.872752</td>\n",
              "      <td>11.677286</td>\n",
              "      <td>1.0</td>\n",
              "      <td>FAC_HOME_DIST</td>\n",
              "      <td>SJ95_HOME_DIST</td>\n",
              "      <td>SJ06_HOME_DIST</td>\n",
              "      <td>SJ09_HOME_DIST</td>\n",
              "      <td>SJ95_HOME_DIST</td>\n",
              "      <td>Utah - Wasatch Front</td>\n",
              "      <td>True</td>\n",
              "    </tr>\n",
              "  </tbody>\n",
              "</table>\n",
              "<p>11351 rows × 33 columns</p>\n",
              "</div>\n",
              "      <button class=\"colab-df-convert\" onclick=\"convertToInteractive('df-87420f8e-49f3-4221-b174-784821444b4f')\"\n",
              "              title=\"Convert this dataframe to an interactive table.\"\n",
              "              style=\"display:none;\">\n",
              "        \n",
              "  <svg xmlns=\"http://www.w3.org/2000/svg\" height=\"24px\"viewBox=\"0 0 24 24\"\n",
              "       width=\"24px\">\n",
              "    <path d=\"M0 0h24v24H0V0z\" fill=\"none\"/>\n",
              "    <path d=\"M18.56 5.44l.94 2.06.94-2.06 2.06-.94-2.06-.94-.94-2.06-.94 2.06-2.06.94zm-11 1L8.5 8.5l.94-2.06 2.06-.94-2.06-.94L8.5 2.5l-.94 2.06-2.06.94zm10 10l.94 2.06.94-2.06 2.06-.94-2.06-.94-.94-2.06-.94 2.06-2.06.94z\"/><path d=\"M17.41 7.96l-1.37-1.37c-.4-.4-.92-.59-1.43-.59-.52 0-1.04.2-1.43.59L10.3 9.45l-7.72 7.72c-.78.78-.78 2.05 0 2.83L4 21.41c.39.39.9.59 1.41.59.51 0 1.02-.2 1.41-.59l7.78-7.78 2.81-2.81c.8-.78.8-2.07 0-2.86zM5.41 20L4 18.59l7.72-7.72 1.47 1.35L5.41 20z\"/>\n",
              "  </svg>\n",
              "      </button>\n",
              "      \n",
              "  <style>\n",
              "    .colab-df-container {\n",
              "      display:flex;\n",
              "      flex-wrap:wrap;\n",
              "      gap: 12px;\n",
              "    }\n",
              "\n",
              "    .colab-df-convert {\n",
              "      background-color: #E8F0FE;\n",
              "      border: none;\n",
              "      border-radius: 50%;\n",
              "      cursor: pointer;\n",
              "      display: none;\n",
              "      fill: #1967D2;\n",
              "      height: 32px;\n",
              "      padding: 0 0 0 0;\n",
              "      width: 32px;\n",
              "    }\n",
              "\n",
              "    .colab-df-convert:hover {\n",
              "      background-color: #E2EBFA;\n",
              "      box-shadow: 0px 1px 2px rgba(60, 64, 67, 0.3), 0px 1px 3px 1px rgba(60, 64, 67, 0.15);\n",
              "      fill: #174EA6;\n",
              "    }\n",
              "\n",
              "    [theme=dark] .colab-df-convert {\n",
              "      background-color: #3B4455;\n",
              "      fill: #D2E3FC;\n",
              "    }\n",
              "\n",
              "    [theme=dark] .colab-df-convert:hover {\n",
              "      background-color: #434B5C;\n",
              "      box-shadow: 0px 1px 3px 1px rgba(0, 0, 0, 0.15);\n",
              "      filter: drop-shadow(0px 1px 2px rgba(0, 0, 0, 0.3));\n",
              "      fill: #FFFFFF;\n",
              "    }\n",
              "  </style>\n",
              "\n",
              "      <script>\n",
              "        const buttonEl =\n",
              "          document.querySelector('#df-87420f8e-49f3-4221-b174-784821444b4f button.colab-df-convert');\n",
              "        buttonEl.style.display =\n",
              "          google.colab.kernel.accessAllowed ? 'block' : 'none';\n",
              "\n",
              "        async function convertToInteractive(key) {\n",
              "          const element = document.querySelector('#df-87420f8e-49f3-4221-b174-784821444b4f');\n",
              "          const dataTable =\n",
              "            await google.colab.kernel.invokeFunction('convertToInteractive',\n",
              "                                                     [key], {});\n",
              "          if (!dataTable) return;\n",
              "\n",
              "          const docLinkHtml = 'Like what you see? Visit the ' +\n",
              "            '<a target=\"_blank\" href=https://colab.research.google.com/notebooks/data_table.ipynb>data table notebook</a>'\n",
              "            + ' to learn more about interactive tables.';\n",
              "          element.innerHTML = '';\n",
              "          dataTable['output_type'] = 'display_data';\n",
              "          await google.colab.output.renderOutput(dataTable, element);\n",
              "          const docLink = document.createElement('div');\n",
              "          docLink.innerHTML = docLinkHtml;\n",
              "          element.appendChild(docLink);\n",
              "        }\n",
              "      </script>\n",
              "    </div>\n",
              "  </div>\n",
              "  "
            ]
          },
          "metadata": {},
          "execution_count": 86
        }
      ]
    },
    {
      "cell_type": "code",
      "source": [
        "plt.xticks(rotation=90, ha='right')\n",
        "plt.bar(sj_zip_count_09.index.astype(str), sj_zip_count_09.values,color=\"sandybrown\")\n",
        "plt.xlabel(\"Zipcode\")\n",
        "plt.ylabel(\"No.of surgeries\")\n",
        "plt.title(\"No.of surgeries taking place in each Zipcode if we start a facility in South Jordan 84009\")"
      ],
      "metadata": {
        "colab": {
          "base_uri": "https://localhost:8080/",
          "height": 520
        },
        "id": "DyJsIq_mDWEu",
        "outputId": "a02172bd-6b22-4e7c-c99f-8b9cf42461c1"
      },
      "execution_count": 87,
      "outputs": [
        {
          "output_type": "execute_result",
          "data": {
            "text/plain": [
              "Text(0.5, 1.0, 'No.of surgeries taking place in each Zipcode if we start a facility in South Jordan 84009')"
            ]
          },
          "metadata": {},
          "execution_count": 87
        },
        {
          "output_type": "display_data",
          "data": {
            "text/plain": [
              "<Figure size 640x480 with 1 Axes>"
            ],
            "image/png": "[encoded data removed]"
          },
          "metadata": {}
        }
      ]
    },
    {
      "cell_type": "code",
      "source": [
        "sj_tot_09 = sj_capture_df_09.groupby(\"FACILITY_ZIP_CODE\").agg({\"INSURANCE\" : sum}).sort_values(by=\"INSURANCE\", ascending=False).sum()[0]\n",
        "\n",
        "print(\"Total number of expected surgeries in the South Jordan Facility are - {}\".format(int(sj_tot_09)))"
      ],
      "metadata": {
        "colab": {
          "base_uri": "https://localhost:8080/"
        },
        "id": "qzEgm3ZRDV9y",
        "outputId": "a82333a1-9ee8-4762-f2e2-d5e56a17cee3"
      },
      "execution_count": 88,
      "outputs": [
        {
          "output_type": "stream",
          "name": "stdout",
          "text": [
            "Total number of expected surgeries in the South Jordan Facility are - 9075\n"
          ]
        }
      ]
    },
    {
      "cell_type": "markdown",
      "source": [
        "** Total number of expected surgeries if a facility is established in South Jordan84009 - 9075"
      ],
      "metadata": {
        "id": "XGJ0CdOeQ_YD"
      }
    },
    {
      "cell_type": "code",
      "source": [
        "sj_capture_df_09.groupby(\"FACILITY_ZIP_CODE\").agg({\"INSURANCE\" : sum}).sort_values(by=\"INSURANCE\", ascending=False)[1:].sum()\n"
      ],
      "metadata": {
        "colab": {
          "base_uri": "https://localhost:8080/"
        },
        "id": "H17sVoKzzfBl",
        "outputId": "8835283d-3243-4bea-9770-9d70139ceef4"
      },
      "execution_count": 89,
      "outputs": [
        {
          "output_type": "execute_result",
          "data": {
            "text/plain": [
              "INSURANCE    4055.892255\n",
              "dtype: float64"
            ]
          },
          "metadata": {},
          "execution_count": 89
        }
      ]
    },
    {
      "cell_type": "markdown",
      "source": [
        "** No.of additional surgeries we can expect from the zipcodes that are currently dominated by Non-UoU health facilities if we establish a facility in South Jordan 84009 are 4055."
      ],
      "metadata": {
        "id": "a3oaEbD7RWIA"
      }
    },
    {
      "cell_type": "code",
      "source": [
        "print(\"Additional percentage captured by adding a new facility in South Jordan 84009 - {} %\".format(round(4055.89*100/24481, 2)))"
      ],
      "metadata": {
        "colab": {
          "base_uri": "https://localhost:8080/"
        },
        "id": "vso-5GE9Ekwn",
        "outputId": "65a2e25e-2241-4d0b-c068-c309e5c58be0"
      },
      "execution_count": 90,
      "outputs": [
        {
          "output_type": "stream",
          "name": "stdout",
          "text": [
            "Additional percentage captured by adding a new facility in South Jordan 84009 - 16.57 %\n"
          ]
        }
      ]
    },
    {
      "cell_type": "markdown",
      "source": [
        "So the additional percentage of market share that can be captured from the zipcodes that are currently dominated by Non-UoU health facilities if we establish a facility in South Jordan 84009 is 16.57%"
      ],
      "metadata": {
        "id": "wjmF48-4RcpU"
      }
    },
    {
      "cell_type": "markdown",
      "source": [
        "*** From the above observations it is clear that among the 3 zipcodes in SouthJordan we can capture more Non-UoU Health market if we establish a facility at South Jordan zipcode of 84095.***"
      ],
      "metadata": {
        "id": "0QHz5lKtE1h0"
      }
    },
    {
      "cell_type": "markdown",
      "source": [
        "# What do we observe if a facility is established in both Farmington and South Jordan 84095:"
      ],
      "metadata": {
        "id": "X0v-4P9NFI5I"
      }
    },
    {
      "cell_type": "code",
      "source": [
        "farm_sj_capture_df = surgery_df[surgery_df[\"BEST_FARM_SJ95\"].isin([\"SJ95_HOME_DIST\", \"FARM_HOME_DIST\"])]\n",
        "farm_sj_zip_count = farm_sj_capture_df[\"FACILITY_ZIP_CODE\"].value_counts()\n",
        "farm_sj_capture_df"
      ],
      "metadata": {
        "colab": {
          "base_uri": "https://localhost:8080/",
          "height": 852
        },
        "id": "Q2FbH1xMEkp5",
        "outputId": "cbfc22e5-813f-4a51-f069-6616862612f3"
      },
      "execution_count": 91,
      "outputs": [
        {
          "output_type": "execute_result",
          "data": {
            "text/plain": [
              "        RECORD_ID AGE_GROUP  PATIENT_ZIP_CODE    PATIENT_COUNTY PATIENT_STATE  \\\n",
              "799     393261206     1 - 4           84651.0       Utah County            UT   \n",
              "1734    394083626   65 - 69           84096.0  Salt Lake County            UT   \n",
              "1739    393648845   55 - 59           84009.0  Salt Lake County            UT   \n",
              "2016    394385694   65 - 69           84096.0  Salt Lake County            UT   \n",
              "2186    393583110   35 - 39           84015.0      Davis County            UT   \n",
              "...           ...       ...               ...               ...           ...   \n",
              "118770  394826621     1 - 4           84025.0      Davis County            UT   \n",
              "118771  393231361   60 - 64           84020.0  Salt Lake County            UT   \n",
              "118773  393227055   65 - 69           84065.0  Salt Lake County            UT   \n",
              "118774  393225177   80 - 84           84094.0  Salt Lake County            UT   \n",
              "118776  393230971   85 - 89           84121.0  Salt Lake County            UT   \n",
              "\n",
              "       PATIENT_GENDER  FACILITY_ID                      FACILITY_NAME  \\\n",
              "799                 M          122         Primary Childrens Hospital   \n",
              "1734                M          125               Univ Hosp. | Clinics   \n",
              "1739                M          125               Univ Hosp. | Clinics   \n",
              "2016                F          125               Univ Hosp. | Clinics   \n",
              "2186                F          416                              Moran   \n",
              "...               ...          ...                                ...   \n",
              "118770              F          424       Mountain West Surgery Center   \n",
              "118771              F          120  Salt Lake Regional Medical Center   \n",
              "118773              M          120  Salt Lake Regional Medical Center   \n",
              "118774              M          120  Salt Lake Regional Medical Center   \n",
              "118776              M          120  Salt Lake Regional Medical Center   \n",
              "\n",
              "                      FACILITY_AFF              FACILITY_OWNERSHIP  ...  \\\n",
              "799     Primary Childrens Hospital        INTERMOUNTAIN HEALTHCARE  ...   \n",
              "1734     University of Utah Health  UNIVERSITY OF UTAH HEALTH CARE  ...   \n",
              "1739     University of Utah Health  UNIVERSITY OF UTAH HEALTH CARE  ...   \n",
              "2016     University of Utah Health  UNIVERSITY OF UTAH HEALTH CARE  ...   \n",
              "2186     University of Utah Health                             NaN  ...   \n",
              "...                            ...                             ...  ...   \n",
              "118770            HCA Mountainstar                        NUETERRA  ...   \n",
              "118771          Steward Healthcare  SALT LAKE REGIONAL MEDICAL, LP  ...   \n",
              "118773          Steward Healthcare  SALT LAKE REGIONAL MEDICAL, LP  ...   \n",
              "118774          Steward Healthcare  SALT LAKE REGIONAL MEDICAL, LP  ...   \n",
              "118776          Steward Healthcare  SALT LAKE REGIONAL MEDICAL, LP  ...   \n",
              "\n",
              "        SJ06_HOME_DIST  SJ09_HOME_DIST  INSURANCE   BEST_FAC_FARM  \\\n",
              "799          66.942634       63.283152        0.5   FAC_HOME_DIST   \n",
              "1734          9.208881        6.446068        0.5   FAC_HOME_DIST   \n",
              "1739          7.929558        0.881971        0.5   FAC_HOME_DIST   \n",
              "2016          9.208881        6.446068        1.0   FAC_HOME_DIST   \n",
              "2186         61.770662       61.949442        1.0  FARM_HOME_DIST   \n",
              "...                ...             ...        ...             ...   \n",
              "118770       49.421910       47.625378        0.5  FARM_HOME_DIST   \n",
              "118771       20.057447       12.348157        0.5   FAC_HOME_DIST   \n",
              "118773       14.565213        7.910693        1.0   FAC_HOME_DIST   \n",
              "118774       19.872752       11.677286        1.0   FAC_HOME_DIST   \n",
              "118776       24.038568       16.406879        1.0   FAC_HOME_DIST   \n",
              "\n",
              "         BEST_FAC_SJ95   BEST_FAC_SJ06   BEST_FAC_SJ09  BEST_FARM_SJ95  \\\n",
              "799     SJ95_HOME_DIST  SJ06_HOME_DIST  SJ09_HOME_DIST  SJ95_HOME_DIST   \n",
              "1734    SJ95_HOME_DIST  SJ06_HOME_DIST  SJ09_HOME_DIST  SJ95_HOME_DIST   \n",
              "1739    SJ95_HOME_DIST  SJ06_HOME_DIST  SJ09_HOME_DIST  SJ95_HOME_DIST   \n",
              "2016    SJ95_HOME_DIST  SJ06_HOME_DIST  SJ09_HOME_DIST  SJ95_HOME_DIST   \n",
              "2186     FAC_HOME_DIST   FAC_HOME_DIST   FAC_HOME_DIST  FARM_HOME_DIST   \n",
              "...                ...             ...             ...             ...   \n",
              "118770   FAC_HOME_DIST   FAC_HOME_DIST   FAC_HOME_DIST  FARM_HOME_DIST   \n",
              "118771  SJ95_HOME_DIST  SJ06_HOME_DIST  SJ09_HOME_DIST  SJ95_HOME_DIST   \n",
              "118773  SJ95_HOME_DIST  SJ06_HOME_DIST  SJ09_HOME_DIST  SJ95_HOME_DIST   \n",
              "118774  SJ95_HOME_DIST  SJ06_HOME_DIST  SJ09_HOME_DIST  SJ95_HOME_DIST   \n",
              "118776  SJ95_HOME_DIST   FAC_HOME_DIST   FAC_HOME_DIST  SJ95_HOME_DIST   \n",
              "\n",
              "                      REGION  WASATCH FRONT  \n",
              "799     Utah - Wasatch Front           True  \n",
              "1734    Utah - Wasatch Front           True  \n",
              "1739    Utah - Wasatch Front           True  \n",
              "2016    Utah - Wasatch Front           True  \n",
              "2186    Utah - Wasatch Front           True  \n",
              "...                      ...            ...  \n",
              "118770  Utah - Wasatch Front           True  \n",
              "118771  Utah - Wasatch Front           True  \n",
              "118773  Utah - Wasatch Front           True  \n",
              "118774  Utah - Wasatch Front           True  \n",
              "118776  Utah - Wasatch Front           True  \n",
              "\n",
              "[17757 rows x 33 columns]"
            ],
            "text/html": [
              "\n",
              "  <div id=\"df-bb11bdc1-423b-447f-acb4-d3c4371e5ddb\">\n",
              "    <div class=\"colab-df-container\">\n",
              "      <div>\n",
              "<style scoped>\n",
              "    .dataframe tbody tr th:only-of-type {\n",
              "        vertical-align: middle;\n",
              "    }\n",
              "\n",
              "    .dataframe tbody tr th {\n",
              "        vertical-align: top;\n",
              "    }\n",
              "\n",
              "    .dataframe thead th {\n",
              "        text-align: right;\n",
              "    }\n",
              "</style>\n",
              "<table border=\"1\" class=\"dataframe\">\n",
              "  <thead>\n",
              "    <tr style=\"text-align: right;\">\n",
              "      <th></th>\n",
              "      <th>RECORD_ID</th>\n",
              "      <th>AGE_GROUP</th>\n",
              "      <th>PATIENT_ZIP_CODE</th>\n",
              "      <th>PATIENT_COUNTY</th>\n",
              "      <th>PATIENT_STATE</th>\n",
              "      <th>PATIENT_GENDER</th>\n",
              "      <th>FACILITY_ID</th>\n",
              "      <th>FACILITY_NAME</th>\n",
              "      <th>FACILITY_AFF</th>\n",
              "      <th>FACILITY_OWNERSHIP</th>\n",
              "      <th>...</th>\n",
              "      <th>SJ06_HOME_DIST</th>\n",
              "      <th>SJ09_HOME_DIST</th>\n",
              "      <th>INSURANCE</th>\n",
              "      <th>BEST_FAC_FARM</th>\n",
              "      <th>BEST_FAC_SJ95</th>\n",
              "      <th>BEST_FAC_SJ06</th>\n",
              "      <th>BEST_FAC_SJ09</th>\n",
              "      <th>BEST_FARM_SJ95</th>\n",
              "      <th>REGION</th>\n",
              "      <th>WASATCH FRONT</th>\n",
              "    </tr>\n",
              "  </thead>\n",
              "  <tbody>\n",
              "    <tr>\n",
              "      <th>799</th>\n",
              "      <td>393261206</td>\n",
              "      <td>1 - 4</td>\n",
              "      <td>84651.0</td>\n",
              "      <td>Utah County</td>\n",
              "      <td>UT</td>\n",
              "      <td>M</td>\n",
              "      <td>122</td>\n",
              "      <td>Primary Childrens Hospital</td>\n",
              "      <td>Primary Childrens Hospital</td>\n",
              "      <td>INTERMOUNTAIN HEALTHCARE</td>\n",
              "      <td>...</td>\n",
              "      <td>66.942634</td>\n",
              "      <td>63.283152</td>\n",
              "      <td>0.5</td>\n",
              "      <td>FAC_HOME_DIST</td>\n",
              "      <td>SJ95_HOME_DIST</td>\n",
              "      <td>SJ06_HOME_DIST</td>\n",
              "      <td>SJ09_HOME_DIST</td>\n",
              "      <td>SJ95_HOME_DIST</td>\n",
              "      <td>Utah - Wasatch Front</td>\n",
              "      <td>True</td>\n",
              "    </tr>\n",
              "    <tr>\n",
              "      <th>1734</th>\n",
              "      <td>394083626</td>\n",
              "      <td>65 - 69</td>\n",
              "      <td>84096.0</td>\n",
              "      <td>Salt Lake County</td>\n",
              "      <td>UT</td>\n",
              "      <td>M</td>\n",
              "      <td>125</td>\n",
              "      <td>Univ Hosp. | Clinics</td>\n",
              "      <td>University of Utah Health</td>\n",
              "      <td>UNIVERSITY OF UTAH HEALTH CARE</td>\n",
              "      <td>...</td>\n",
              "      <td>9.208881</td>\n",
              "      <td>6.446068</td>\n",
              "      <td>0.5</td>\n",
              "      <td>FAC_HOME_DIST</td>\n",
              "      <td>SJ95_HOME_DIST</td>\n",
              "      <td>SJ06_HOME_DIST</td>\n",
              "      <td>SJ09_HOME_DIST</td>\n",
              "      <td>SJ95_HOME_DIST</td>\n",
              "      <td>Utah - Wasatch Front</td>\n",
              "      <td>True</td>\n",
              "    </tr>\n",
              "    <tr>\n",
              "      <th>1739</th>\n",
              "      <td>393648845</td>\n",
              "      <td>55 - 59</td>\n",
              "      <td>84009.0</td>\n",
              "      <td>Salt Lake County</td>\n",
              "      <td>UT</td>\n",
              "      <td>M</td>\n",
              "      <td>125</td>\n",
              "      <td>Univ Hosp. | Clinics</td>\n",
              "      <td>University of Utah Health</td>\n",
              "      <td>UNIVERSITY OF UTAH HEALTH CARE</td>\n",
              "      <td>...</td>\n",
              "      <td>7.929558</td>\n",
              "      <td>0.881971</td>\n",
              "      <td>0.5</td>\n",
              "      <td>FAC_HOME_DIST</td>\n",
              "      <td>SJ95_HOME_DIST</td>\n",
              "      <td>SJ06_HOME_DIST</td>\n",
              "      <td>SJ09_HOME_DIST</td>\n",
              "      <td>SJ95_HOME_DIST</td>\n",
              "      <td>Utah - Wasatch Front</td>\n",
              "      <td>True</td>\n",
              "    </tr>\n",
              "    <tr>\n",
              "      <th>2016</th>\n",
              "      <td>394385694</td>\n",
              "      <td>65 - 69</td>\n",
              "      <td>84096.0</td>\n",
              "      <td>Salt Lake County</td>\n",
              "      <td>UT</td>\n",
              "      <td>F</td>\n",
              "      <td>125</td>\n",
              "      <td>Univ Hosp. | Clinics</td>\n",
              "      <td>University of Utah Health</td>\n",
              "      <td>UNIVERSITY OF UTAH HEALTH CARE</td>\n",
              "      <td>...</td>\n",
              "      <td>9.208881</td>\n",
              "      <td>6.446068</td>\n",
              "      <td>1.0</td>\n",
              "      <td>FAC_HOME_DIST</td>\n",
              "      <td>SJ95_HOME_DIST</td>\n",
              "      <td>SJ06_HOME_DIST</td>\n",
              "      <td>SJ09_HOME_DIST</td>\n",
              "      <td>SJ95_HOME_DIST</td>\n",
              "      <td>Utah - Wasatch Front</td>\n",
              "      <td>True</td>\n",
              "    </tr>\n",
              "    <tr>\n",
              "      <th>2186</th>\n",
              "      <td>393583110</td>\n",
              "      <td>35 - 39</td>\n",
              "      <td>84015.0</td>\n",
              "      <td>Davis County</td>\n",
              "      <td>UT</td>\n",
              "      <td>F</td>\n",
              "      <td>416</td>\n",
              "      <td>Moran</td>\n",
              "      <td>University of Utah Health</td>\n",
              "      <td>NaN</td>\n",
              "      <td>...</td>\n",
              "      <td>61.770662</td>\n",
              "      <td>61.949442</td>\n",
              "      <td>1.0</td>\n",
              "      <td>FARM_HOME_DIST</td>\n",
              "      <td>FAC_HOME_DIST</td>\n",
              "      <td>FAC_HOME_DIST</td>\n",
              "      <td>FAC_HOME_DIST</td>\n",
              "      <td>FARM_HOME_DIST</td>\n",
              "      <td>Utah - Wasatch Front</td>\n",
              "      <td>True</td>\n",
              "    </tr>\n",
              "    <tr>\n",
              "      <th>...</th>\n",
              "      <td>...</td>\n",
              "      <td>...</td>\n",
              "      <td>...</td>\n",
              "      <td>...</td>\n",
              "      <td>...</td>\n",
              "      <td>...</td>\n",
              "      <td>...</td>\n",
              "      <td>...</td>\n",
              "      <td>...</td>\n",
              "      <td>...</td>\n",
              "      <td>...</td>\n",
              "      <td>...</td>\n",
              "      <td>...</td>\n",
              "      <td>...</td>\n",
              "      <td>...</td>\n",
              "      <td>...</td>\n",
              "      <td>...</td>\n",
              "      <td>...</td>\n",
              "      <td>...</td>\n",
              "      <td>...</td>\n",
              "      <td>...</td>\n",
              "    </tr>\n",
              "    <tr>\n",
              "      <th>118770</th>\n",
              "      <td>394826621</td>\n",
              "      <td>1 - 4</td>\n",
              "      <td>84025.0</td>\n",
              "      <td>Davis County</td>\n",
              "      <td>UT</td>\n",
              "      <td>F</td>\n",
              "      <td>424</td>\n",
              "      <td>Mountain West Surgery Center</td>\n",
              "      <td>HCA Mountainstar</td>\n",
              "      <td>NUETERRA</td>\n",
              "      <td>...</td>\n",
              "      <td>49.421910</td>\n",
              "      <td>47.625378</td>\n",
              "      <td>0.5</td>\n",
              "      <td>FARM_HOME_DIST</td>\n",
              "      <td>FAC_HOME_DIST</td>\n",
              "      <td>FAC_HOME_DIST</td>\n",
              "      <td>FAC_HOME_DIST</td>\n",
              "      <td>FARM_HOME_DIST</td>\n",
              "      <td>Utah - Wasatch Front</td>\n",
              "      <td>True</td>\n",
              "    </tr>\n",
              "    <tr>\n",
              "      <th>118771</th>\n",
              "      <td>393231361</td>\n",
              "      <td>60 - 64</td>\n",
              "      <td>84020.0</td>\n",
              "      <td>Salt Lake County</td>\n",
              "      <td>UT</td>\n",
              "      <td>F</td>\n",
              "      <td>120</td>\n",
              "      <td>Salt Lake Regional Medical Center</td>\n",
              "      <td>Steward Healthcare</td>\n",
              "      <td>SALT LAKE REGIONAL MEDICAL, LP</td>\n",
              "      <td>...</td>\n",
              "      <td>20.057447</td>\n",
              "      <td>12.348157</td>\n",
              "      <td>0.5</td>\n",
              "      <td>FAC_HOME_DIST</td>\n",
              "      <td>SJ95_HOME_DIST</td>\n",
              "      <td>SJ06_HOME_DIST</td>\n",
              "      <td>SJ09_HOME_DIST</td>\n",
              "      <td>SJ95_HOME_DIST</td>\n",
              "      <td>Utah - Wasatch Front</td>\n",
              "      <td>True</td>\n",
              "    </tr>\n",
              "    <tr>\n",
              "      <th>118773</th>\n",
              "      <td>393227055</td>\n",
              "      <td>65 - 69</td>\n",
              "      <td>84065.0</td>\n",
              "      <td>Salt Lake County</td>\n",
              "      <td>UT</td>\n",
              "      <td>M</td>\n",
              "      <td>120</td>\n",
              "      <td>Salt Lake Regional Medical Center</td>\n",
              "      <td>Steward Healthcare</td>\n",
              "      <td>SALT LAKE REGIONAL MEDICAL, LP</td>\n",
              "      <td>...</td>\n",
              "      <td>14.565213</td>\n",
              "      <td>7.910693</td>\n",
              "      <td>1.0</td>\n",
              "      <td>FAC_HOME_DIST</td>\n",
              "      <td>SJ95_HOME_DIST</td>\n",
              "      <td>SJ06_HOME_DIST</td>\n",
              "      <td>SJ09_HOME_DIST</td>\n",
              "      <td>SJ95_HOME_DIST</td>\n",
              "      <td>Utah - Wasatch Front</td>\n",
              "      <td>True</td>\n",
              "    </tr>\n",
              "    <tr>\n",
              "      <th>118774</th>\n",
              "      <td>393225177</td>\n",
              "      <td>80 - 84</td>\n",
              "      <td>84094.0</td>\n",
              "      <td>Salt Lake County</td>\n",
              "      <td>UT</td>\n",
              "      <td>M</td>\n",
              "      <td>120</td>\n",
              "      <td>Salt Lake Regional Medical Center</td>\n",
              "      <td>Steward Healthcare</td>\n",
              "      <td>SALT LAKE REGIONAL MEDICAL, LP</td>\n",
              "      <td>...</td>\n",
              "      <td>19.872752</td>\n",
              "      <td>11.677286</td>\n",
              "      <td>1.0</td>\n",
              "      <td>FAC_HOME_DIST</td>\n",
              "      <td>SJ95_HOME_DIST</td>\n",
              "      <td>SJ06_HOME_DIST</td>\n",
              "      <td>SJ09_HOME_DIST</td>\n",
              "      <td>SJ95_HOME_DIST</td>\n",
              "      <td>Utah - Wasatch Front</td>\n",
              "      <td>True</td>\n",
              "    </tr>\n",
              "    <tr>\n",
              "      <th>118776</th>\n",
              "      <td>393230971</td>\n",
              "      <td>85 - 89</td>\n",
              "      <td>84121.0</td>\n",
              "      <td>Salt Lake County</td>\n",
              "      <td>UT</td>\n",
              "      <td>M</td>\n",
              "      <td>120</td>\n",
              "      <td>Salt Lake Regional Medical Center</td>\n",
              "      <td>Steward Healthcare</td>\n",
              "      <td>SALT LAKE REGIONAL MEDICAL, LP</td>\n",
              "      <td>...</td>\n",
              "      <td>24.038568</td>\n",
              "      <td>16.406879</td>\n",
              "      <td>1.0</td>\n",
              "      <td>FAC_HOME_DIST</td>\n",
              "      <td>SJ95_HOME_DIST</td>\n",
              "      <td>FAC_HOME_DIST</td>\n",
              "      <td>FAC_HOME_DIST</td>\n",
              "      <td>SJ95_HOME_DIST</td>\n",
              "      <td>Utah - Wasatch Front</td>\n",
              "      <td>True</td>\n",
              "    </tr>\n",
              "  </tbody>\n",
              "</table>\n",
              "<p>17757 rows × 33 columns</p>\n",
              "</div>\n",
              "      <button class=\"colab-df-convert\" onclick=\"convertToInteractive('df-bb11bdc1-423b-447f-acb4-d3c4371e5ddb')\"\n",
              "              title=\"Convert this dataframe to an interactive table.\"\n",
              "              style=\"display:none;\">\n",
              "        \n",
              "  <svg xmlns=\"http://www.w3.org/2000/svg\" height=\"24px\"viewBox=\"0 0 24 24\"\n",
              "       width=\"24px\">\n",
              "    <path d=\"M0 0h24v24H0V0z\" fill=\"none\"/>\n",
              "    <path d=\"M18.56 5.44l.94 2.06.94-2.06 2.06-.94-2.06-.94-.94-2.06-.94 2.06-2.06.94zm-11 1L8.5 8.5l.94-2.06 2.06-.94-2.06-.94L8.5 2.5l-.94 2.06-2.06.94zm10 10l.94 2.06.94-2.06 2.06-.94-2.06-.94-.94-2.06-.94 2.06-2.06.94z\"/><path d=\"M17.41 7.96l-1.37-1.37c-.4-.4-.92-.59-1.43-.59-.52 0-1.04.2-1.43.59L10.3 9.45l-7.72 7.72c-.78.78-.78 2.05 0 2.83L4 21.41c.39.39.9.59 1.41.59.51 0 1.02-.2 1.41-.59l7.78-7.78 2.81-2.81c.8-.78.8-2.07 0-2.86zM5.41 20L4 18.59l7.72-7.72 1.47 1.35L5.41 20z\"/>\n",
              "  </svg>\n",
              "      </button>\n",
              "      \n",
              "  <style>\n",
              "    .colab-df-container {\n",
              "      display:flex;\n",
              "      flex-wrap:wrap;\n",
              "      gap: 12px;\n",
              "    }\n",
              "\n",
              "    .colab-df-convert {\n",
              "      background-color: #E8F0FE;\n",
              "      border: none;\n",
              "      border-radius: 50%;\n",
              "      cursor: pointer;\n",
              "      display: none;\n",
              "      fill: #1967D2;\n",
              "      height: 32px;\n",
              "      padding: 0 0 0 0;\n",
              "      width: 32px;\n",
              "    }\n",
              "\n",
              "    .colab-df-convert:hover {\n",
              "      background-color: #E2EBFA;\n",
              "      box-shadow: 0px 1px 2px rgba(60, 64, 67, 0.3), 0px 1px 3px 1px rgba(60, 64, 67, 0.15);\n",
              "      fill: #174EA6;\n",
              "    }\n",
              "\n",
              "    [theme=dark] .colab-df-convert {\n",
              "      background-color: #3B4455;\n",
              "      fill: #D2E3FC;\n",
              "    }\n",
              "\n",
              "    [theme=dark] .colab-df-convert:hover {\n",
              "      background-color: #434B5C;\n",
              "      box-shadow: 0px 1px 3px 1px rgba(0, 0, 0, 0.15);\n",
              "      filter: drop-shadow(0px 1px 2px rgba(0, 0, 0, 0.3));\n",
              "      fill: #FFFFFF;\n",
              "    }\n",
              "  </style>\n",
              "\n",
              "      <script>\n",
              "        const buttonEl =\n",
              "          document.querySelector('#df-bb11bdc1-423b-447f-acb4-d3c4371e5ddb button.colab-df-convert');\n",
              "        buttonEl.style.display =\n",
              "          google.colab.kernel.accessAllowed ? 'block' : 'none';\n",
              "\n",
              "        async function convertToInteractive(key) {\n",
              "          const element = document.querySelector('#df-bb11bdc1-423b-447f-acb4-d3c4371e5ddb');\n",
              "          const dataTable =\n",
              "            await google.colab.kernel.invokeFunction('convertToInteractive',\n",
              "                                                     [key], {});\n",
              "          if (!dataTable) return;\n",
              "\n",
              "          const docLinkHtml = 'Like what you see? Visit the ' +\n",
              "            '<a target=\"_blank\" href=https://colab.research.google.com/notebooks/data_table.ipynb>data table notebook</a>'\n",
              "            + ' to learn more about interactive tables.';\n",
              "          element.innerHTML = '';\n",
              "          dataTable['output_type'] = 'display_data';\n",
              "          await google.colab.output.renderOutput(dataTable, element);\n",
              "          const docLink = document.createElement('div');\n",
              "          docLink.innerHTML = docLinkHtml;\n",
              "          element.appendChild(docLink);\n",
              "        }\n",
              "      </script>\n",
              "    </div>\n",
              "  </div>\n",
              "  "
            ]
          },
          "metadata": {},
          "execution_count": 91
        }
      ]
    },
    {
      "cell_type": "code",
      "source": [
        "plt.xticks(rotation=90, ha='right')\n",
        "plt.bar(farm_sj_zip_count.index.astype(str), farm_sj_zip_count.values,color=\"crimson\")\n",
        "plt.xlabel(\"Zipcode\")\n",
        "plt.ylabel(\"No.of surgeries\")\n",
        "plt.title(\"No.of surgeries taking place in each Zipcode if we start a facility in Farmington&South Jordan 84095\")"
      ],
      "metadata": {
        "colab": {
          "base_uri": "https://localhost:8080/",
          "height": 520
        },
        "id": "jqAXMXEaEkm-",
        "outputId": "2c3a2177-e620-4317-b8b0-1989b2ef5943"
      },
      "execution_count": 92,
      "outputs": [
        {
          "output_type": "execute_result",
          "data": {
            "text/plain": [
              "Text(0.5, 1.0, 'No.of surgeries taking place in each Zipcode if we start a facility in Farmington&South Jordan 84095')"
            ]
          },
          "metadata": {},
          "execution_count": 92
        },
        {
          "output_type": "display_data",
          "data": {
            "text/plain": [
              "<Figure size 640x480 with 1 Axes>"
            ],
            "image/png": "[encoded data removed]"
          },
          "metadata": {}
        }
      ]
    },
    {
      "cell_type": "code",
      "source": [
        "farm_sj_capture_df.groupby(\"FACILITY_ZIP_CODE\").agg({\"INSURANCE\" : sum}).sort_values(by=\"INSURANCE\", ascending=False)[1:].sum()\n"
      ],
      "metadata": {
        "colab": {
          "base_uri": "https://localhost:8080/"
        },
        "id": "XXXQRoYvEkj1",
        "outputId": "c5c30002-f69e-4dbb-bc1d-ea1c2187125c"
      },
      "execution_count": 93,
      "outputs": [
        {
          "output_type": "execute_result",
          "data": {
            "text/plain": [
              "INSURANCE    6285.062316\n",
              "dtype: float64"
            ]
          },
          "metadata": {},
          "execution_count": 93
        }
      ]
    },
    {
      "cell_type": "markdown",
      "source": [
        "** No.of additional surgeries we can expect from the zipcodes that are currently dominated by Non-UoU health facilities if we establish a facility in both Farmington and South Jordan84095 are 6285."
      ],
      "metadata": {
        "id": "hQeo3n6QROQ7"
      }
    },
    {
      "cell_type": "code",
      "source": [
        "print(\"Additional percentage captured by adding a new facility in Farmington and South Jordan - {} %\".format(round(6285*100/24481, 2)))"
      ],
      "metadata": {
        "colab": {
          "base_uri": "https://localhost:8080/"
        },
        "id": "zmhoHNeqEkgx",
        "outputId": "bfcb48f5-2ee5-4deb-cc51-d1c893ce09bc"
      },
      "execution_count": 94,
      "outputs": [
        {
          "output_type": "stream",
          "name": "stdout",
          "text": [
            "Additional percentage captured by adding a new facility in Farmington and South Jordan - 25.67 %\n"
          ]
        }
      ]
    },
    {
      "cell_type": "markdown",
      "source": [
        "**So the additional percentage of market share that can be captured from the zipcodes that are currently dominated by Non-UoU health facilities if we establish a facility in both Farmington and South Jordan84095 is 25.67%**"
      ],
      "metadata": {
        "id": "KqMvI1g9R0CX"
      }
    },
    {
      "cell_type": "markdown",
      "source": [
        "Answering the questions given:"
      ],
      "metadata": {
        "id": "krq-P_y2cxow"
      }
    },
    {
      "cell_type": "code",
      "source": [
        "#Q1:\n",
        "surgery_df[surgery_df[\"WASATCH FRONT\"] == True][\"FAC_HOME_DIST\"].mean()"
      ],
      "metadata": {
        "colab": {
          "base_uri": "https://localhost:8080/"
        },
        "id": "StG4dDgqxSfK",
        "outputId": "d9d7fae7-34ff-4f54-8239-009c3e8e766d"
      },
      "execution_count": 95,
      "outputs": [
        {
          "output_type": "execute_result",
          "data": {
            "text/plain": [
              "25.56263139856934"
            ]
          },
          "metadata": {},
          "execution_count": 95
        }
      ]
    },
    {
      "cell_type": "code",
      "source": [
        "surgery_df[surgery_df[\"WASATCH FRONT\"] == True][\"FAC_HOME_DIST\"].std()"
      ],
      "metadata": {
        "colab": {
          "base_uri": "https://localhost:8080/"
        },
        "id": "2qIb0H0kxSRf",
        "outputId": "703bc60e-d842-4367-bf16-76d5ec7912ba"
      },
      "execution_count": 96,
      "outputs": [
        {
          "output_type": "execute_result",
          "data": {
            "text/plain": [
              "45.76546084440613"
            ]
          },
          "metadata": {},
          "execution_count": 96
        }
      ]
    },
    {
      "cell_type": "code",
      "source": [
        "#Q1a:"
      ],
      "metadata": {
        "id": "EA1GTNNGcsrK"
      },
      "execution_count": 97,
      "outputs": []
    },
    {
      "cell_type": "markdown",
      "source": [
        "Based on the analysis, we can define Farmington 84025 and SouthJordan 84095 as the eye surgery markets."
      ],
      "metadata": {
        "id": "co-ZquBPcteC"
      }
    },
    {
      "cell_type": "code",
      "source": [
        "#Q2:"
      ],
      "metadata": {
        "id": "qoCAlXDpcrbX"
      },
      "execution_count": 98,
      "outputs": []
    },
    {
      "cell_type": "code",
      "source": [
        "farm_tot = farm_capture_df.groupby(\"FACILITY_ZIP_CODE\").agg({\"INSURANCE\" : sum}).sort_values(by=\"INSURANCE\", ascending=False).sum()[0]\n",
        "\n",
        "print(\"Total number of expected surgeries in the Farmington Facility are - {}\".format(int(farm_tot)))"
      ],
      "metadata": {
        "colab": {
          "base_uri": "https://localhost:8080/"
        },
        "id": "WFrK18TOxSJF",
        "outputId": "3613d371-ab19-4817-bd35-b5ec1a2050b0"
      },
      "execution_count": 99,
      "outputs": [
        {
          "output_type": "stream",
          "name": "stdout",
          "text": [
            "Total number of expected surgeries in the Farmington Facility are - 3991\n"
          ]
        }
      ]
    },
    {
      "cell_type": "code",
      "source": [
        "sj_tot_06 = sj_capture_df_06.groupby(\"FACILITY_ZIP_CODE\").agg({\"INSURANCE\" : sum}).sort_values(by=\"INSURANCE\", ascending=False).sum()[0]\n",
        "\n",
        "print(\"Total number of expected surgeries in the South Jordan 84006 Facility are - {}\".format(int(sj_tot_06)))"
      ],
      "metadata": {
        "colab": {
          "base_uri": "https://localhost:8080/"
        },
        "id": "2d_FCAs5xSF3",
        "outputId": "cfb8835b-8dab-4eb8-88bd-1a27d1ec2633"
      },
      "execution_count": 100,
      "outputs": [
        {
          "output_type": "stream",
          "name": "stdout",
          "text": [
            "Total number of expected surgeries in the South Jordan 84006 Facility are - 6768\n"
          ]
        }
      ]
    },
    {
      "cell_type": "code",
      "source": [
        "sj_tot_09 = sj_capture_df_09.groupby(\"FACILITY_ZIP_CODE\").agg({\"INSURANCE\" : sum}).sort_values(by=\"INSURANCE\", ascending=False).sum()[0]\n",
        "\n",
        "print(\"Total number of expected surgeries in the South Jordan 84009 Facility are - {}\".format(int(sj_tot_09)))"
      ],
      "metadata": {
        "colab": {
          "base_uri": "https://localhost:8080/"
        },
        "id": "jN6rVpvJxSCq",
        "outputId": "f8f94f47-758c-4cb6-ca35-2d6a6c4a619d"
      },
      "execution_count": 101,
      "outputs": [
        {
          "output_type": "stream",
          "name": "stdout",
          "text": [
            "Total number of expected surgeries in the South Jordan 84009 Facility are - 9075\n"
          ]
        }
      ]
    },
    {
      "cell_type": "code",
      "source": [
        "sj_tot_95 = sj_capture_df_95.groupby(\"FACILITY_ZIP_CODE\").agg({\"INSURANCE\" : sum}).sort_values(by=\"INSURANCE\", ascending=False).sum()[0]\n",
        "\n",
        "print(\"Total number of expected surgeries in the South Jordan 84095 Facility are - {}\".format(int(sj_tot_95)))"
      ],
      "metadata": {
        "colab": {
          "base_uri": "https://localhost:8080/"
        },
        "id": "sPtsbO7PxR_x",
        "outputId": "881dedae-799f-4952-c938-b91f67f031d8"
      },
      "execution_count": 102,
      "outputs": [
        {
          "output_type": "stream",
          "name": "stdout",
          "text": [
            "Total number of expected surgeries in the South Jordan 84095 Facility are - 10647\n"
          ]
        }
      ]
    },
    {
      "cell_type": "code",
      "source": [
        "#Q2a:"
      ],
      "metadata": {
        "id": "LOXwoFd_dXZt"
      },
      "execution_count": 103,
      "outputs": []
    },
    {
      "cell_type": "code",
      "source": [
        "zip_df = surgery_df[surgery_df[\"PATIENT_ZIP_CODE\"] == 84025]\n",
        "print(\"Percentage of insurance access to U health services for Farmington is {}\".format(zip_df[\"INSURANCE\"].sum()/zip_df[\"INSURANCE\"].shape[0]*100))"
      ],
      "metadata": {
        "colab": {
          "base_uri": "https://localhost:8080/"
        },
        "id": "I6AaNqTuxR5C",
        "outputId": "5923a90c-74fe-42da-c3a5-4cd798b8a70d"
      },
      "execution_count": 104,
      "outputs": [
        {
          "output_type": "stream",
          "name": "stdout",
          "text": [
            "Percentage of insurance access to U health services for Farmington is 84.1438319385845\n"
          ]
        }
      ]
    },
    {
      "cell_type": "code",
      "source": [
        "zip_df = surgery_df[surgery_df[\"PATIENT_ZIP_CODE\"] == 84006]\n",
        "print(\"Percentage of insurance access to U health services for South Jordan 84006 is {}\".format(zip_df[\"INSURANCE\"].sum()/zip_df[\"INSURANCE\"].shape[0]*100))"
      ],
      "metadata": {
        "colab": {
          "base_uri": "https://localhost:8080/"
        },
        "id": "D4vFR1nexR0Y",
        "outputId": "6811ae87-331c-4dde-8cb3-49997234b7ee"
      },
      "execution_count": 105,
      "outputs": [
        {
          "output_type": "stream",
          "name": "stdout",
          "text": [
            "Percentage of insurance access to U health services for South Jordan 84006 is 100.0\n"
          ]
        }
      ]
    },
    {
      "cell_type": "code",
      "source": [
        "zip_df = surgery_df[surgery_df[\"PATIENT_ZIP_CODE\"] == 84009]\n",
        "print(\"Percentage of insurance access to U health services for South Jordan 84009 is {}\".format(zip_df[\"INSURANCE\"].sum()/zip_df[\"INSURANCE\"].shape[0]*100))"
      ],
      "metadata": {
        "colab": {
          "base_uri": "https://localhost:8080/"
        },
        "id": "1HNIb8Q0xRwz",
        "outputId": "a9679ed1-b787-428f-d94a-6442aff50eeb"
      },
      "execution_count": 106,
      "outputs": [
        {
          "output_type": "stream",
          "name": "stdout",
          "text": [
            "Percentage of insurance access to U health services for South Jordan 84009 is 79.46805520361497\n"
          ]
        }
      ]
    },
    {
      "cell_type": "code",
      "source": [
        "zip_df = surgery_df[surgery_df[\"PATIENT_ZIP_CODE\"] == 84095]\n",
        "print(\"Percentage of insurance access to U health services for South Jordan 84095 is {}\".format(zip_df[\"INSURANCE\"].sum()/zip_df[\"INSURANCE\"].shape[0]*100))"
      ],
      "metadata": {
        "colab": {
          "base_uri": "https://localhost:8080/"
        },
        "id": "dDXapMY5y4zx",
        "outputId": "2c6b762f-e1d4-420b-9181-26a703e241b2"
      },
      "execution_count": 107,
      "outputs": [
        {
          "output_type": "stream",
          "name": "stdout",
          "text": [
            "Percentage of insurance access to U health services for South Jordan 84095 is 81.04486994273823\n"
          ]
        }
      ]
    },
    {
      "cell_type": "code",
      "source": [
        "#Q3:"
      ],
      "metadata": {
        "id": "PbHoX4tad8-4"
      },
      "execution_count": 108,
      "outputs": []
    },
    {
      "cell_type": "code",
      "source": [
        "farm_capture_df = surgery_df[surgery_df[\"BEST_FAC_FARM\"] == \"FARM_HOME_DIST\"]\n",
        "# all markets\n",
        "u_zips = list(farm_capture_df[\"PATIENT_ZIP_CODE\"].dropna().unique())\n",
        "\n",
        "z_vals = []\n",
        "for z in u_zips:\n",
        "    z_vals.append(farm_capture_df[farm_capture_df[\"PATIENT_ZIP_CODE\"] == z][\"INSURANCE\"].sum()/surgery_df[surgery_df[\"PATIENT_ZIP_CODE\"] == z].shape[0])\n",
        "    \n",
        "sorted_zips_vals = sorted(zip(u_zips, z_vals), key=lambda x: x[1])\n",
        "u_zips = [x[0] for x in sorted_zips_vals]\n",
        "z_vals = [x[1] for x in sorted_zips_vals]\n"
      ],
      "metadata": {
        "id": "AF0es4EV1DTA"
      },
      "execution_count": 109,
      "outputs": []
    },
    {
      "cell_type": "code",
      "source": [
        "from tabulate import tabulate\n",
        "\n",
        "table1 = sorted(zip(u_zips , z_vals), key=lambda x: x[1], reverse=True)\n",
        "headers1 = [\"ZIP Code\", \"Insurance Coverage (%)\"]\n",
        "print(tabulate(table1[:20], headers=headers1))\n",
        "\n"
      ],
      "metadata": {
        "colab": {
          "base_uri": "https://localhost:8080/"
        },
        "id": "pjGKYS2A1sXf",
        "outputId": "490f3c35-dee4-4ce1-bb00-c89f07e12f84"
      },
      "execution_count": 110,
      "outputs": [
        {
          "output_type": "stream",
          "name": "stdout",
          "text": [
            "  ZIP Code    Insurance Coverage (%)\n",
            "----------  ------------------------\n",
            "     84038                  1\n",
            "     84334                  1\n",
            "     84306                  1\n",
            "     84147                  1\n",
            "     84033                  0.909091\n",
            "     84018                  0.875\n",
            "     84083                  0.8701\n",
            "     84050                  0.867175\n",
            "     84037                  0.846677\n",
            "     84025                  0.841438\n",
            "     84327                  0.833333\n",
            "     84341                  0.791545\n",
            "     84335                  0.77644\n",
            "     84332                  0.759192\n",
            "     84320                  0.754759\n",
            "     84011                  0.635112\n",
            "     84321                  0.618895\n",
            "     84339                  0.613236\n",
            "     84415                  0.6\n",
            "     84016                  0.6\n"
          ]
        }
      ]
    },
    {
      "cell_type": "markdown",
      "source": [
        "U health's eye surgery market share for Farmington 84025 is 0.841438"
      ],
      "metadata": {
        "id": "l_iydNYH4MT8"
      }
    },
    {
      "cell_type": "code",
      "source": [
        "farm_capture_df = surgery_df[surgery_df[\"BEST_FAC_SJ06\"] == \"SJ06_HOME_DIST\"]\n",
        "# all markets\n",
        "u_zips = list(farm_capture_df[\"PATIENT_ZIP_CODE\"].dropna().unique())\n",
        "\n",
        "z_vals = []\n",
        "for z in u_zips:\n",
        "    z_vals.append(farm_capture_df[farm_capture_df[\"PATIENT_ZIP_CODE\"] == z][\"INSURANCE\"].sum()/surgery_df[surgery_df[\"PATIENT_ZIP_CODE\"] == z].shape[0])\n",
        "    \n",
        "sorted_zips_vals = sorted(zip(u_zips, z_vals), key=lambda x: x[1])\n",
        "u_zips = [x[0] for x in sorted_zips_vals]\n",
        "z_vals = [x[1] for x in sorted_zips_vals]\n"
      ],
      "metadata": {
        "id": "VwkWySyA4ZqG"
      },
      "execution_count": 111,
      "outputs": []
    },
    {
      "cell_type": "code",
      "source": [
        "from tabulate import tabulate\n",
        "\n",
        "table2 = sorted(zip(u_zips , z_vals), key=lambda x: x[1], reverse=True)\n",
        "headers2 = [\"ZIP Code\", \" Insurance Coverage (%)\"]\n",
        "print(tabulate(table2[:20], headers=headers2))\n",
        "\n"
      ],
      "metadata": {
        "colab": {
          "base_uri": "https://localhost:8080/"
        },
        "id": "MMdGiTeM4Zmb",
        "outputId": "e9ff9cc7-0289-4afb-db70-a3c0ad26fd1b"
      },
      "execution_count": 112,
      "outputs": [
        {
          "output_type": "stream",
          "name": "stdout",
          "text": [
            "  ZIP Code     Insurance Coverage (%)\n",
            "----------  -------------------------\n",
            "     84751                   1\n",
            "     84636                   1\n",
            "     84006                   1\n",
            "     84516                   1\n",
            "     84726                   1\n",
            "     84758                   1\n",
            "     84762                   1\n",
            "     84034                   1\n",
            "     84746                   1\n",
            "     84745                   1\n",
            "     84529                   1\n",
            "     84723                   1\n",
            "     84306                   1\n",
            "     84147                   1\n",
            "     84536                   1\n",
            "     84767                   0.915448\n",
            "     84725                   0.915448\n",
            "     84083                   0.8701\n",
            "     84738                   0.857143\n",
            "     84775                   0.833333\n"
          ]
        }
      ]
    },
    {
      "cell_type": "markdown",
      "source": [
        "U health's eye surgery market share for SouthJordan 84006 is 1.0"
      ],
      "metadata": {
        "id": "eCloKo5P43Ln"
      }
    },
    {
      "cell_type": "code",
      "source": [
        "farm_capture_df = surgery_df[surgery_df[\"BEST_FAC_SJ09\"] == \"SJ09_HOME_DIST\"]\n",
        "# all markets\n",
        "u_zips = list(farm_capture_df[\"PATIENT_ZIP_CODE\"].dropna().unique())\n",
        "\n",
        "z_vals = []\n",
        "for z in u_zips:\n",
        "    z_vals.append(farm_capture_df[farm_capture_df[\"PATIENT_ZIP_CODE\"] == z][\"INSURANCE\"].sum()/surgery_df[surgery_df[\"PATIENT_ZIP_CODE\"] == z].shape[0])\n",
        "    \n",
        "sorted_zips_vals = sorted(zip(u_zips, z_vals), key=lambda x: x[1])\n",
        "u_zips = [x[0] for x in sorted_zips_vals]\n",
        "z_vals = [x[1] for x in sorted_zips_vals]\n"
      ],
      "metadata": {
        "id": "hE-6mScr4Zjy"
      },
      "execution_count": 113,
      "outputs": []
    },
    {
      "cell_type": "code",
      "source": [
        "from tabulate import tabulate\n",
        "\n",
        "table3 = sorted(zip(u_zips , z_vals), key=lambda x: x[1], reverse=True)\n",
        "headers3 = [\"ZIP Code\", \"Insurance Coverage (%)\"]\n",
        "print(tabulate(table3[:30], headers=headers3))\n",
        "\n"
      ],
      "metadata": {
        "colab": {
          "base_uri": "https://localhost:8080/"
        },
        "id": "aqre8ldy4ZgI",
        "outputId": "919a332a-9c9a-4554-a92d-2e289b0894d6"
      },
      "execution_count": 114,
      "outputs": [
        {
          "output_type": "stream",
          "name": "stdout",
          "text": [
            "  ZIP Code    Insurance Coverage (%)\n",
            "----------  ------------------------\n",
            "     84751                  1\n",
            "     84636                  1\n",
            "     84006                  1\n",
            "     84516                  1\n",
            "     84726                  1\n",
            "     84758                  1\n",
            "     84762                  1\n",
            "     84534                  1\n",
            "     84034                  1\n",
            "     84746                  1\n",
            "     84745                  1\n",
            "     84529                  1\n",
            "     84723                  1\n",
            "     84306                  1\n",
            "     84147                  1\n",
            "     84536                  1\n",
            "     84767                  0.915448\n",
            "     84725                  0.915448\n",
            "     84083                  0.8701\n",
            "     84738                  0.857143\n",
            "     84775                  0.833333\n",
            "     84074                  0.809583\n",
            "     84095                  0.808597\n",
            "     84029                  0.807899\n",
            "     84088                  0.803346\n",
            "     84780                  0.794684\n",
            "     84009                  0.794681\n",
            "     84532                  0.787863\n",
            "     84770                  0.785714\n",
            "     84535                  0.777778\n"
          ]
        }
      ]
    },
    {
      "cell_type": "markdown",
      "source": [
        "U health's eye surgery market share for SouthJordan 84009 is 0.794681"
      ],
      "metadata": {
        "id": "DWkHmWLb5Izs"
      }
    },
    {
      "cell_type": "code",
      "source": [
        "farm_capture_df = surgery_df[surgery_df[\"BEST_FAC_SJ95\"] == \"SJ95_HOME_DIST\"]\n",
        "# all markets\n",
        "u_zips = list(farm_capture_df[\"PATIENT_ZIP_CODE\"].dropna().unique())\n",
        "\n",
        "z_vals = []\n",
        "for z in u_zips:\n",
        "    z_vals.append(farm_capture_df[farm_capture_df[\"PATIENT_ZIP_CODE\"] == z][\"INSURANCE\"].sum()/surgery_df[surgery_df[\"PATIENT_ZIP_CODE\"] == z].shape[0])\n",
        "    \n",
        "sorted_zips_vals = sorted(zip(u_zips, z_vals), key=lambda x: x[1])\n",
        "u_zips = [x[0] for x in sorted_zips_vals]\n",
        "z_vals = [x[1] for x in sorted_zips_vals]\n"
      ],
      "metadata": {
        "id": "7GzyjX194Zc0"
      },
      "execution_count": 115,
      "outputs": []
    },
    {
      "cell_type": "code",
      "source": [
        "from tabulate import tabulate\n",
        "\n",
        "table4 = sorted(zip(u_zips , z_vals), key=lambda x: x[1], reverse=True)\n",
        "headers4 = [\"ZIP Code\", \"Insurance Coverage (%)\"]\n",
        "print(tabulate(table4[:25], headers=headers4))\n",
        "\n"
      ],
      "metadata": {
        "colab": {
          "base_uri": "https://localhost:8080/"
        },
        "id": "tvhWqMo24ZY1",
        "outputId": "3a9dc20b-69e8-4c7b-cbde-bba68814ff33"
      },
      "execution_count": 116,
      "outputs": [
        {
          "output_type": "stream",
          "name": "stdout",
          "text": [
            "  ZIP Code    Insurance Coverage (%)\n",
            "----------  ------------------------\n",
            "     84751                  1\n",
            "     84636                  1\n",
            "     84516                  1\n",
            "     84726                  1\n",
            "     84758                  1\n",
            "     84762                  1\n",
            "     84534                  1\n",
            "     84034                  1\n",
            "     84746                  1\n",
            "     84745                  1\n",
            "     84529                  1\n",
            "     84723                  1\n",
            "     84306                  1\n",
            "     84147                  1\n",
            "     84536                  1\n",
            "     84767                  0.915448\n",
            "     84083                  0.8701\n",
            "     84738                  0.857143\n",
            "     84775                  0.833333\n",
            "     84091                  0.8125\n",
            "     84095                  0.810449\n",
            "     84088                  0.803346\n",
            "     84780                  0.794684\n",
            "     84532                  0.787863\n",
            "     84770                  0.785714\n"
          ]
        }
      ]
    },
    {
      "cell_type": "markdown",
      "source": [
        "U health's eye surgery market share for SouthJordan 84095 is 0.810449"
      ],
      "metadata": {
        "id": "uo3g8dwH5a7H"
      }
    },
    {
      "cell_type": "code",
      "source": [
        "#Q4:"
      ],
      "metadata": {
        "id": "Th87U44efiKP"
      },
      "execution_count": 117,
      "outputs": []
    },
    {
      "cell_type": "code",
      "source": [
        "surgery_df[surgery_df[\"PATIENT_ZIP_CODE\"] == 84025][\"FACILITY_OWNERSHIP\"].value_counts()"
      ],
      "metadata": {
        "colab": {
          "base_uri": "https://localhost:8080/"
        },
        "id": "0ofIN9GG5sGS",
        "outputId": "eb8244f3-7b0a-42d7-adcc-6aff0ea9fdce"
      },
      "execution_count": 118,
      "outputs": [
        {
          "output_type": "execute_result",
          "data": {
            "text/plain": [
              "NUETERRA                                     83\n",
              "DAVIS HOSPITAL AND MEDICAL CENTER, LP        36\n",
              "INTERMOUNTAIN HEALTHCARE                     35\n",
              "UNIVERSITY OF UTAH HEALTH CARE               28\n",
              "MCKAY DEE SURGICAL CENTER LLC                27\n",
              "THE SURGICARE CENTER OF UTAH                 19\n",
              "MT. OGDEN UTAH SURGICAL CENTER, LLC           8\n",
              "MOUNTAINSTAR HEALTHCARE                       4\n",
              "NORTHERN UTAH HEALTHCARE CORPORATION          4\n",
              "ST MARKS AMBULATORY SURGERY ASSOCIATES LP     3\n",
              "SALT LAKE REGIONAL MEDICAL, LP                2\n",
              "UTAH SURGERY CENTER L.P. (UTAH SC)            2\n",
              "LYSSA INC                                     1\n",
              "Name: FACILITY_OWNERSHIP, dtype: int64"
            ]
          },
          "metadata": {},
          "execution_count": 118
        }
      ]
    },
    {
      "cell_type": "code",
      "source": [
        "surgery_df[surgery_df[\"PATIENT_ZIP_CODE\"] == 84009][\"FACILITY_OWNERSHIP\"].value_counts()"
      ],
      "metadata": {
        "colab": {
          "base_uri": "https://localhost:8080/"
        },
        "id": "P6Ib1bQW5r7i",
        "outputId": "b6e90606-eee5-4dee-a3ff-7f67a64f1d16"
      },
      "execution_count": 119,
      "outputs": [
        {
          "output_type": "execute_result",
          "data": {
            "text/plain": [
              "INTERMOUNTAIN HEALTHCARE                     144\n",
              "UNIVERSITY OF UTAH HEALTH CARE               136\n",
              "LYSSA INC                                     33\n",
              "THE SURGICARE CENTER OF UTAH                  29\n",
              "NUETERRA                                      17\n",
              "ST MARKS AMBULATORY SURGERY ASSOCIATES LP      9\n",
              "UTAH SURGERY CENTER L.P. (UTAH SC)             8\n",
              "SALT LAKE REGIONAL MEDICAL, LP                 3\n",
              "JORDAN VALLEY MEDICAL CENTER, LP               3\n",
              "NORTHERN UTAH HEALTHCARE CORPORATION           2\n",
              "DAVIS HOSPITAL AND MEDICAL CENTER, LP          2\n",
              "MOUNTAINSTAR HEALTHCARE                        1\n",
              "Name: FACILITY_OWNERSHIP, dtype: int64"
            ]
          },
          "metadata": {},
          "execution_count": 119
        }
      ]
    },
    {
      "cell_type": "code",
      "source": [
        "surgery_df[surgery_df[\"PATIENT_ZIP_CODE\"] == 84006][\"FACILITY_OWNERSHIP\"].value_counts()"
      ],
      "metadata": {
        "colab": {
          "base_uri": "https://localhost:8080/"
        },
        "id": "IxFfFtYy5sBE",
        "outputId": "2f5339cc-a526-4651-c4bf-91ab87cf66c5"
      },
      "execution_count": 120,
      "outputs": [
        {
          "output_type": "execute_result",
          "data": {
            "text/plain": [
              "INTERMOUNTAIN HEALTHCARE                3\n",
              "LYSSA INC                               2\n",
              "NORTHERN UTAH HEALTHCARE CORPORATION    1\n",
              "Name: FACILITY_OWNERSHIP, dtype: int64"
            ]
          },
          "metadata": {},
          "execution_count": 120
        }
      ]
    },
    {
      "cell_type": "code",
      "source": [
        "surgery_df[surgery_df[\"PATIENT_ZIP_CODE\"] == 84095][\"FACILITY_OWNERSHIP\"].value_counts()"
      ],
      "metadata": {
        "colab": {
          "base_uri": "https://localhost:8080/"
        },
        "id": "ajjOkXGC5r1b",
        "outputId": "247110ac-32a5-444d-8230-5572d595d6a1"
      },
      "execution_count": 121,
      "outputs": [
        {
          "output_type": "execute_result",
          "data": {
            "text/plain": [
              "INTERMOUNTAIN HEALTHCARE                     193\n",
              "LYSSA INC                                    108\n",
              "UNIVERSITY OF UTAH HEALTH CARE                95\n",
              "THE SURGICARE CENTER OF UTAH                  58\n",
              "NUETERRA                                      30\n",
              "UTAH SURGERY CENTER L.P. (UTAH SC)            28\n",
              "NORTHERN UTAH HEALTHCARE CORPORATION          24\n",
              "ST MARKS AMBULATORY SURGERY ASSOCIATES LP     22\n",
              "SALT LAKE REGIONAL MEDICAL, LP                 9\n",
              "JORDAN VALLEY MEDICAL CENTER, LP               2\n",
              "MCKAY DEE SURGICAL CENTER LLC                  2\n",
              "Name: FACILITY_OWNERSHIP, dtype: int64"
            ]
          },
          "metadata": {},
          "execution_count": 121
        }
      ]
    }
  ]
}